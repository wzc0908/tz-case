{
 "cells": [
  {
   "cell_type": "markdown",
   "id": "aecff19f",
   "metadata": {},
   "source": [
    "# TZ Gaming: Optimal Targeting of Mobile Ads"
   ]
  },
  {
   "cell_type": "code",
   "execution_count": 1,
   "id": "4dd2ad5c",
   "metadata": {},
   "outputs": [],
   "source": [
    "import os\n",
    "\n",
    "import matplotlib as mpl\n",
    "import matplotlib.pyplot as plt\n",
    "import numpy as np\n",
    "import pandas as pd\n",
    "import pyrsm as rsm\n",
    "import seaborn as sns\n",
    "from IPython.display import display\n",
    "# increase plot resolution\n",
    "# mpl.rcParams[\"figure.dpi\"] = 200"
   ]
  },
  {
   "cell_type": "code",
   "execution_count": 2,
   "id": "f6496814",
   "metadata": {},
   "outputs": [
    {
     "data": {
      "text/plain": [
       "'0.9.13'"
      ]
     },
     "execution_count": 2,
     "metadata": {},
     "output_type": "execute_result"
    }
   ],
   "source": [
    "# check that you have version 0.9.13 of the pyrsm package\n",
    "# install in a terminal using: pip install --user \"pyrsm>=0.9.13\"\n",
    "rsm.__version__"
   ]
  },
  {
   "cell_type": "code",
   "execution_count": 3,
   "id": "b7b8bc29",
   "metadata": {},
   "outputs": [],
   "source": [
    "# loading data tz_gaming.parquet\n",
    "tz_gaming = pd.read_parquet('data/tz_gaming.parquet')\n"
   ]
  },
  {
   "cell_type": "code",
   "execution_count": 4,
   "id": "2a795402",
   "metadata": {},
   "outputs": [
    {
     "data": {
      "text/plain": [
       "training\n",
       "train    87535\n",
       "test     27953\n",
       "Name: count, dtype: int64"
      ]
     },
     "execution_count": 4,
     "metadata": {},
     "output_type": "execute_result"
    }
   ],
   "source": [
    "tz_gaming['training'].value_counts()"
   ]
  },
  {
   "cell_type": "markdown",
   "id": "8cb5253a",
   "metadata": {},
   "source": [
    "> Note: Review the data description carefully and watch the \"Video: TZ gaming preview (12 min)\" linked on Canvas"
   ]
  },
  {
   "cell_type": "markdown",
   "id": "ffc3eefb",
   "metadata": {},
   "source": [
    "> Note: Full question details are contained in the tz-gaming-msba.pdf file\n"
   ]
  },
  {
   "attachments": {},
   "cell_type": "markdown",
   "id": "af1428da",
   "metadata": {},
   "source": [
    "## Part I: Logistic regression (10 points)"
   ]
  },
  {
   "cell_type": "markdown",
   "id": "361b6ecd",
   "metadata": {},
   "source": [
    "a. Estimate a logistic regression model with the following variables `time_fct app mobile_os impua clua ctrua` as the explanatory variables (features) and `click` as the response variable (target)\n",
    "\n",
    "> Note: Use only the rows that are labeled `train` in the `training` variable"
   ]
  },
  {
   "cell_type": "code",
   "execution_count": 5,
   "id": "6504d02c",
   "metadata": {},
   "outputs": [],
   "source": [
    "train_df = tz_gaming[tz_gaming['training'] == 'train']"
   ]
  },
  {
   "cell_type": "code",
   "execution_count": 6,
   "id": "a09ac84c",
   "metadata": {},
   "outputs": [
    {
     "name": "stdout",
     "output_type": "stream",
     "text": [
      "Logistic regression (GLM)\n",
      "Data                 : data\n",
      "Response variable    : click\n",
      "Level                : None\n",
      "Explanatory variables: time_fct, app, mobile_os, impua, clua, ctrua\n",
      "Null hyp.: There is no effect of x on click\n",
      "Alt. hyp.: There is an effect of x on click\n",
      "\n",
      "                     OR      OR%  coefficient   std.error  z.value p.value     \n",
      "Intercept         0.029   -97.1%        -3.53       0.197  -17.936  < .001  ***\n",
      "time_fct[2]       0.622   -37.8%        -0.47       0.321   -1.478   0.139     \n",
      "time_fct[3]       0.718   -28.2%        -0.33       0.454   -0.730   0.466     \n",
      "time_fct[4]       0.000  -100.0%       -23.54   42007.161   -0.001     1.0     \n",
      "time_fct[5]       0.000  -100.0%       -23.72   55229.970   -0.000     1.0     \n",
      "time_fct[6]       0.349   -65.1%        -1.05       1.021   -1.030   0.303     \n",
      "time_fct[7]       1.221    22.1%         0.20       0.426    0.468    0.64     \n",
      "time_fct[8]       1.104    10.4%         0.10       0.296    0.335   0.737     \n",
      "time_fct[9]       1.029     2.9%         0.03       0.287    0.101    0.92     \n",
      "time_fct[10]      0.830   -17.0%        -0.19       0.295   -0.633   0.527     \n",
      "time_fct[11]      0.637   -36.3%        -0.45       0.276   -1.635   0.102     \n",
      "time_fct[12]      0.874   -12.6%        -0.14       0.280   -0.483   0.629     \n",
      "time_fct[13]      0.590   -41.0%        -0.53       0.290   -1.823   0.068    .\n",
      "time_fct[14]      1.099     9.9%         0.09       0.225    0.419   0.675     \n",
      "time_fct[15]      0.986    -1.4%        -0.01       0.225   -0.062   0.951     \n",
      "time_fct[16]      1.046     4.6%         0.05       0.233    0.195   0.846     \n",
      "time_fct[17]      1.014     1.4%         0.01       0.250    0.055   0.956     \n",
      "time_fct[18]      1.061     6.1%         0.06       0.247    0.241   0.809     \n",
      "time_fct[19]      1.284    28.4%         0.25       0.233    1.072   0.284     \n",
      "time_fct[20]      1.224    22.4%         0.20       0.231    0.873   0.382     \n",
      "time_fct[21]      0.867   -13.3%        -0.14       0.244   -0.584   0.559     \n",
      "time_fct[22]      0.970    -3.0%        -0.03       0.238   -0.127   0.899     \n",
      "time_fct[23]      1.044     4.4%         0.04       0.238    0.180   0.857     \n",
      "time_fct[24]      1.099     9.9%         0.09       0.229    0.410   0.682     \n",
      "app[app2]         0.124   -87.6%        -2.09       0.229   -9.127  < .001  ***\n",
      "app[app3]         0.184   -81.6%        -1.69       1.003   -1.689   0.091    .\n",
      "app[app4]         0.383   -61.7%        -0.96       0.321   -2.988   0.003   **\n",
      "app[app5]         0.282   -71.8%        -1.26       1.005   -1.258   0.208     \n",
      "app[app6]         0.651   -34.9%        -0.43       0.175   -2.457   0.014    *\n",
      "app[app7]         0.596   -40.4%        -0.52       1.007   -0.513   0.608     \n",
      "app[app8]         0.000  -100.0%       -24.37   71686.172   -0.000     1.0     \n",
      "app[app9]         0.748   -25.2%        -0.29       0.236   -1.227    0.22     \n",
      "app[app10]        0.000  -100.0%       -23.89   67058.977   -0.000     1.0     \n",
      "app[app11]        1.051     5.1%         0.05       0.719    0.069   0.945     \n",
      "app[app12]        0.713   -28.7%        -0.34       0.224   -1.504   0.133     \n",
      "app[app13]        2.131   113.1%         0.76       0.204    3.709  < .001  ***\n",
      "app[app14]        0.218   -78.2%        -1.53       0.451   -3.384  < .001  ***\n",
      "app[app15]        0.462   -53.8%        -0.77       0.717   -1.077   0.281     \n",
      "app[app16]        0.251   -74.9%        -1.38       0.711   -1.945   0.052    .\n",
      "app[app17]        0.882   -11.8%        -0.13       0.724   -0.174   0.862     \n",
      "app[app18]        0.075   -92.5%        -2.59       1.002   -2.586    0.01   **\n",
      "app[app19]        0.000  -100.0%       -24.37   92379.731   -0.000     1.0     \n",
      "app[app20]        0.000  -100.0%       -24.21   71551.198   -0.000     1.0     \n",
      "app[app21]        0.337   -66.3%        -1.09       0.383   -2.839   0.005   **\n",
      "app[app22]        0.321   -67.9%        -1.14       1.005   -1.130   0.258     \n",
      "app[app23]        3.111   211.1%         1.13       0.392    2.898   0.004   **\n",
      "app[app24]        1.590    59.0%         0.46       0.273    1.701   0.089    .\n",
      "app[app25]        0.975    -2.5%        -0.03       0.594   -0.042   0.966     \n",
      "app[app26]        0.000  -100.0%       -24.47   62613.516   -0.000     1.0     \n",
      "app[app27]        0.202   -79.8%        -1.60       0.711   -2.253   0.024    *\n",
      "app[app28]        0.328   -67.2%        -1.11       0.581   -1.918   0.055    .\n",
      "app[app29]        2.634   163.4%         0.97       0.345    2.805   0.005   **\n",
      "app[app30]        0.000  -100.0%       -24.39   85789.970   -0.000     1.0     \n",
      "app[app31]        0.246   -75.4%        -1.40       0.710   -1.975   0.048    *\n",
      "app[app32]        0.000  -100.0%       -23.16   46670.216   -0.000     1.0     \n",
      "app[app33]        0.513   -48.7%        -0.67       0.338   -1.974   0.048    *\n",
      "app[app34]        0.000  -100.0%       -24.22   54802.115   -0.000     1.0     \n",
      "app[app35]        0.226   -77.4%        -1.49       1.004   -1.480   0.139     \n",
      "app[app36]        0.000  -100.0%       -24.12   76747.449   -0.000     1.0     \n",
      "app[app37]        0.434   -56.6%        -0.84       0.714   -1.171   0.242     \n",
      "app[app38]        0.000  -100.0%       -23.86   53394.100   -0.000     1.0     \n",
      "app[app39]        1.741    74.1%         0.55       0.419    1.322   0.186     \n",
      "app[app40]        1.005     0.5%         0.00       0.514    0.009   0.993     \n",
      "app[app41]        0.632   -36.8%        -0.46       0.714   -0.644   0.519     \n",
      "app[app42]        2.009   100.9%         0.70       0.369    1.889   0.059    .\n",
      "app[app43]        0.000  -100.0%       -24.47   75014.775   -0.000     1.0     \n",
      "app[app44]        0.000  -100.0%       -24.24   45702.677   -0.001     1.0     \n",
      "app[app45]        1.479    47.9%         0.39       0.588    0.665   0.506     \n",
      "app[app46]        0.296   -70.4%        -1.22       1.005   -1.210   0.226     \n",
      "app[app47]        0.289   -71.1%        -1.24       1.005   -1.235   0.217     \n",
      "app[app48]        0.000  -100.0%       -24.03  101834.366   -0.000     1.0     \n",
      "app[app49]        0.241   -75.9%        -1.42       1.004   -1.418   0.156     \n",
      "mobile_os[ios]    0.450   -55.0%        -0.80       0.076  -10.440  < .001  ***\n",
      "mobile_os[other]  0.719   -28.1%        -0.33       0.183   -1.801   0.072    .\n",
      "impua             0.979    -2.1%        -0.02       0.002  -11.386  < .001  ***\n",
      "clua              1.295    29.5%         0.26       0.058    4.452  < .001  ***\n",
      "ctrua             1.022     2.2%         0.02       0.002    9.058  < .001  ***\n",
      "\n",
      "Signif. codes:  0 '***' 0.001 '**' 0.01 '*' 0.05 '.' 0.1 ' ' 1\n",
      "\n",
      "Pseudo R-squared (McFadden): 0.109\n",
      "Pseudo R-squared (McFadden adjusted): 0.092\n",
      "Area under the RO Curve (AUC): 0.792\n",
      "Log-likelihood: -3946.072, AIC: 8046.145, BIC: 8768.389\n",
      "Chi-squared: 968.279, df(76), p.value < 0.001 \n",
      "Nr obs: 87,535\n"
     ]
    }
   ],
   "source": [
    "lr = rsm.model.logistic(\n",
    "    data={\"data\": train_df},\n",
    "    rvar='click',   \n",
    "    evar=['time_fct', 'app', 'mobile_os', 'impua', 'clua', 'ctrua'],\n",
    ")\n",
    "\n",
    "lr.summary()"
   ]
  },
  {
   "attachments": {},
   "cell_type": "markdown",
   "id": "3767d844",
   "metadata": {
    "lines_to_next_cell": 2
   },
   "source": [
    "b. Summarize and interpret the logistic regression results. Which of these explanatory variables are statistically significant? Which variables seem to be most \"important\"? Make sure your model evaluation includes (1) an interpretation of the Permutation importance and Prediction plots for the explanatory variables `mobile_os`, `impua`, `clua`, and `ctrua` and (2) an evaluation of the model as a whole using Pseudo R-squared and the Chi-square test (5 points)."
   ]
  },
  {
   "cell_type": "markdown",
   "id": "357c0907",
   "metadata": {},
   "source": [
    "From the regression output table, we can tell that multiple levels of the variable 'app' are statistically significant where the p-value is less than 0.05. The variable 'time_fct' is also statistically significant. Also, variables 'mobile_os[ios]', 'impua', 'clua' and 'ctrua' are also statistically significant. Indicating that all of these variables has an effect on predicting the click rate to some degree.\n",
    "\n",
    "The adjusted R-squared is 0,092. It accounts for the number of predictors in the model. This slight decrease implies that the model might have some variables that do not add significant explanatory power. The value of 968.279 for the chi-squared statistic, with a highly significant p-value (< 0.001), suggests that the model as a whole is statistically significant. That is, the set of predictors used in the model provides a better fit than a model without them."
   ]
  },
  {
   "cell_type": "code",
   "execution_count": 7,
   "id": "0cfc4b7a",
   "metadata": {},
   "outputs": [
    {
     "data": {
      "image/png": "[encoded data removed]",
      "text/plain": [
       "<Figure size 1000x1200 with 6 Axes>"
      ]
     },
     "metadata": {},
     "output_type": "display_data"
    }
   ],
   "source": [
    "lr.plot(plots = 'pred')"
   ]
  },
  {
   "cell_type": "markdown",
   "id": "7c836a11",
   "metadata": {},
   "source": [
    "The first graph shows the relationship between click rate and different times of the day. There doesn't seem to be a consistent pattern, indicating that the time of day might not have a strong or linear relationship with the likelihood of clicking.\n",
    "\n",
    "The second graph shows the relationship between click rate and different apps. The graph shows that the click rate probability is higher for certain apps which could be caused by various factors.\n",
    "\n",
    "The third graph shows the relationship between click rate and different mobile operating systems. The graph shows that the click rate probability is higher for Andriod users than iOS users and other, indicating that operating system probably have an effect on the click rate.\n",
    "\n",
    "The fourth graph shows an inverse relationship between the number of times a user has been shown the TZ ad across all apps and the likelihood that they will click on it. As exposure to the ad increases, the likelihood of a click decreases. This trend suggests that users may experience ad fatigue or disinterest when repeatedly exposed to the same ad.\n",
    "\n",
    "The fifth graph shows a positive relationshop between the variables. The more often a user has clicked on the TZ ad across all apps in the past, the higher the predicted probability they will click on it again. This positive relationship indicates that users who have engaged with the ad previously are more likely to continue interacting with it.\n",
    "\n",
    "The sixth graph shows a very minimal positive relationship The past click-through rate of the TZ ad across all apps does not appear to have a strong relationship with the predicted probability of clicking. "
   ]
  },
  {
   "cell_type": "code",
   "execution_count": 8,
   "id": "e038b917",
   "metadata": {},
   "outputs": [
    {
     "data": {
      "image/png": "[encoded data removed]",
      "text/plain": [
       "<Figure size 600x500 with 1 Axes>"
      ]
     },
     "metadata": {},
     "output_type": "display_data"
    }
   ],
   "source": [
    "lr.plot(plots='vimp')"
   ]
  },
  {
   "cell_type": "markdown",
   "id": "e935a5a0",
   "metadata": {},
   "source": [
    "The permutation importance graph illustrates that within the predictive model. By shuffling the predictors, permutation importance will tell us how much the AUC would decrease. The more it decreases, more important the variable is. The 'app' variable is the most significant factor influencing click predictions, indicating that the context of the app where ads are displayed is critical. Conversely, 'time_fct', 'clua', and 'ctrua' have relatively lower importance, with the time of the ad impression and the user's past interaction with the ad (through clicks and click-through rate) having a less significant impact on the probability of a user clicking on an ad. "
   ]
  },
  {
   "attachments": {},
   "cell_type": "markdown",
   "id": "83f2c3e9",
   "metadata": {
    "lines_to_next_cell": 2
   },
   "source": [
    "c. Predict the probability of a click (2 point)\n",
    "\n",
    "The estimated logistic regression model can predict the probability of a click. Create a new variable `pred_logit` with the predicted click-through probabilities linked to each impression. Make sure to generate predictions for all rows in the training and test data.\n"
   ]
  },
  {
   "cell_type": "code",
   "execution_count": 9,
   "id": "0599ed47",
   "metadata": {},
   "outputs": [
    {
     "data": {
      "text/html": [
       "<div>\n",
       "<style scoped>\n",
       "    .dataframe tbody tr th:only-of-type {\n",
       "        vertical-align: middle;\n",
       "    }\n",
       "\n",
       "    .dataframe tbody tr th {\n",
       "        vertical-align: top;\n",
       "    }\n",
       "\n",
       "    .dataframe thead th {\n",
       "        text-align: right;\n",
       "    }\n",
       "</style>\n",
       "<table border=\"1\" class=\"dataframe\">\n",
       "  <thead>\n",
       "    <tr style=\"text-align: right;\">\n",
       "      <th></th>\n",
       "      <th>time_fct</th>\n",
       "      <th>app</th>\n",
       "      <th>mobile_os</th>\n",
       "      <th>impua</th>\n",
       "      <th>clua</th>\n",
       "      <th>ctrua</th>\n",
       "      <th>prediction</th>\n",
       "    </tr>\n",
       "  </thead>\n",
       "  <tbody>\n",
       "    <tr>\n",
       "      <th>0</th>\n",
       "      <td>9</td>\n",
       "      <td>app8</td>\n",
       "      <td>ios</td>\n",
       "      <td>2</td>\n",
       "      <td>0</td>\n",
       "      <td>0.000000</td>\n",
       "      <td>3.382977e-13</td>\n",
       "    </tr>\n",
       "    <tr>\n",
       "      <th>1</th>\n",
       "      <td>15</td>\n",
       "      <td>app1</td>\n",
       "      <td>ios</td>\n",
       "      <td>5</td>\n",
       "      <td>0</td>\n",
       "      <td>0.000000</td>\n",
       "      <td>1.156355e-02</td>\n",
       "    </tr>\n",
       "    <tr>\n",
       "      <th>2</th>\n",
       "      <td>12</td>\n",
       "      <td>app5</td>\n",
       "      <td>ios</td>\n",
       "      <td>76</td>\n",
       "      <td>5</td>\n",
       "      <td>6.578947</td>\n",
       "      <td>2.655311e-03</td>\n",
       "    </tr>\n",
       "    <tr>\n",
       "      <th>3</th>\n",
       "      <td>19</td>\n",
       "      <td>app1</td>\n",
       "      <td>ios</td>\n",
       "      <td>10</td>\n",
       "      <td>0</td>\n",
       "      <td>0.000000</td>\n",
       "      <td>1.349420e-02</td>\n",
       "    </tr>\n",
       "    <tr>\n",
       "      <th>4</th>\n",
       "      <td>24</td>\n",
       "      <td>app1</td>\n",
       "      <td>android</td>\n",
       "      <td>145</td>\n",
       "      <td>1</td>\n",
       "      <td>0.689655</td>\n",
       "      <td>1.868222e-03</td>\n",
       "    </tr>\n",
       "    <tr>\n",
       "      <th>...</th>\n",
       "      <td>...</td>\n",
       "      <td>...</td>\n",
       "      <td>...</td>\n",
       "      <td>...</td>\n",
       "      <td>...</td>\n",
       "      <td>...</td>\n",
       "      <td>...</td>\n",
       "    </tr>\n",
       "    <tr>\n",
       "      <th>115483</th>\n",
       "      <td>21</td>\n",
       "      <td>app2</td>\n",
       "      <td>ios</td>\n",
       "      <td>12</td>\n",
       "      <td>0</td>\n",
       "      <td>0.000000</td>\n",
       "      <td>1.093091e-03</td>\n",
       "    </tr>\n",
       "    <tr>\n",
       "      <th>115484</th>\n",
       "      <td>17</td>\n",
       "      <td>app14</td>\n",
       "      <td>android</td>\n",
       "      <td>27</td>\n",
       "      <td>0</td>\n",
       "      <td>0.000000</td>\n",
       "      <td>3.609483e-03</td>\n",
       "    </tr>\n",
       "    <tr>\n",
       "      <th>115485</th>\n",
       "      <td>23</td>\n",
       "      <td>app1</td>\n",
       "      <td>android</td>\n",
       "      <td>46</td>\n",
       "      <td>2</td>\n",
       "      <td>4.347826</td>\n",
       "      <td>2.052670e-02</td>\n",
       "    </tr>\n",
       "    <tr>\n",
       "      <th>115486</th>\n",
       "      <td>20</td>\n",
       "      <td>app6</td>\n",
       "      <td>android</td>\n",
       "      <td>2</td>\n",
       "      <td>0</td>\n",
       "      <td>0.000000</td>\n",
       "      <td>2.192207e-02</td>\n",
       "    </tr>\n",
       "    <tr>\n",
       "      <th>115487</th>\n",
       "      <td>18</td>\n",
       "      <td>app1</td>\n",
       "      <td>ios</td>\n",
       "      <td>24</td>\n",
       "      <td>1</td>\n",
       "      <td>4.166667</td>\n",
       "      <td>1.170346e-02</td>\n",
       "    </tr>\n",
       "  </tbody>\n",
       "</table>\n",
       "<p>115488 rows × 7 columns</p>\n",
       "</div>"
      ],
      "text/plain": [
       "       time_fct    app mobile_os  impua  clua     ctrua    prediction\n",
       "0             9   app8       ios      2     0  0.000000  3.382977e-13\n",
       "1            15   app1       ios      5     0  0.000000  1.156355e-02\n",
       "2            12   app5       ios     76     5  6.578947  2.655311e-03\n",
       "3            19   app1       ios     10     0  0.000000  1.349420e-02\n",
       "4            24   app1   android    145     1  0.689655  1.868222e-03\n",
       "...         ...    ...       ...    ...   ...       ...           ...\n",
       "115483       21   app2       ios     12     0  0.000000  1.093091e-03\n",
       "115484       17  app14   android     27     0  0.000000  3.609483e-03\n",
       "115485       23   app1   android     46     2  4.347826  2.052670e-02\n",
       "115486       20   app6   android      2     0  0.000000  2.192207e-02\n",
       "115487       18   app1       ios     24     1  4.166667  1.170346e-02\n",
       "\n",
       "[115488 rows x 7 columns]"
      ]
     },
     "execution_count": 9,
     "metadata": {},
     "output_type": "execute_result"
    }
   ],
   "source": [
    "pred_logit = lr.predict(tz_gaming)\n",
    "pred_logit\n"
   ]
  },
  {
   "cell_type": "code",
   "execution_count": 10,
   "id": "90e62409",
   "metadata": {},
   "outputs": [
    {
     "data": {
      "text/html": [
       "<div>\n",
       "<style scoped>\n",
       "    .dataframe tbody tr th:only-of-type {\n",
       "        vertical-align: middle;\n",
       "    }\n",
       "\n",
       "    .dataframe tbody tr th {\n",
       "        vertical-align: top;\n",
       "    }\n",
       "\n",
       "    .dataframe thead th {\n",
       "        text-align: right;\n",
       "    }\n",
       "</style>\n",
       "<table border=\"1\" class=\"dataframe\">\n",
       "  <thead>\n",
       "    <tr style=\"text-align: right;\">\n",
       "      <th></th>\n",
       "      <th>training</th>\n",
       "      <th>inum</th>\n",
       "      <th>click</th>\n",
       "      <th>time</th>\n",
       "      <th>time_fct</th>\n",
       "      <th>app</th>\n",
       "      <th>mobile_os</th>\n",
       "      <th>impup</th>\n",
       "      <th>clup</th>\n",
       "      <th>ctrup</th>\n",
       "      <th>...</th>\n",
       "      <th>imput</th>\n",
       "      <th>clut</th>\n",
       "      <th>ctrut</th>\n",
       "      <th>imppat</th>\n",
       "      <th>clpat</th>\n",
       "      <th>ctrpat</th>\n",
       "      <th>rnd</th>\n",
       "      <th>pred_vneta</th>\n",
       "      <th>id</th>\n",
       "      <th>pred_logit</th>\n",
       "    </tr>\n",
       "  </thead>\n",
       "  <tbody>\n",
       "    <tr>\n",
       "      <th>0</th>\n",
       "      <td>train</td>\n",
       "      <td>I7</td>\n",
       "      <td>no</td>\n",
       "      <td>9</td>\n",
       "      <td>9</td>\n",
       "      <td>app8</td>\n",
       "      <td>ios</td>\n",
       "      <td>439</td>\n",
       "      <td>2</td>\n",
       "      <td>0.455581</td>\n",
       "      <td>...</td>\n",
       "      <td>25</td>\n",
       "      <td>0</td>\n",
       "      <td>0.000000</td>\n",
       "      <td>71</td>\n",
       "      <td>1</td>\n",
       "      <td>1.408451</td>\n",
       "      <td>-1.207066</td>\n",
       "      <td>0.003961</td>\n",
       "      <td>id247135</td>\n",
       "      <td>3.382977e-13</td>\n",
       "    </tr>\n",
       "    <tr>\n",
       "      <th>1</th>\n",
       "      <td>train</td>\n",
       "      <td>I23</td>\n",
       "      <td>no</td>\n",
       "      <td>15</td>\n",
       "      <td>15</td>\n",
       "      <td>app1</td>\n",
       "      <td>ios</td>\n",
       "      <td>64</td>\n",
       "      <td>0</td>\n",
       "      <td>0.000000</td>\n",
       "      <td>...</td>\n",
       "      <td>7</td>\n",
       "      <td>0</td>\n",
       "      <td>0.000000</td>\n",
       "      <td>67312</td>\n",
       "      <td>1069</td>\n",
       "      <td>1.588127</td>\n",
       "      <td>0.277429</td>\n",
       "      <td>0.003961</td>\n",
       "      <td>id245079</td>\n",
       "      <td>1.156355e-02</td>\n",
       "    </tr>\n",
       "    <tr>\n",
       "      <th>2</th>\n",
       "      <td>train</td>\n",
       "      <td>I28</td>\n",
       "      <td>no</td>\n",
       "      <td>12</td>\n",
       "      <td>12</td>\n",
       "      <td>app5</td>\n",
       "      <td>ios</td>\n",
       "      <td>80</td>\n",
       "      <td>0</td>\n",
       "      <td>0.000000</td>\n",
       "      <td>...</td>\n",
       "      <td>94</td>\n",
       "      <td>0</td>\n",
       "      <td>0.000000</td>\n",
       "      <td>331</td>\n",
       "      <td>1</td>\n",
       "      <td>0.302115</td>\n",
       "      <td>1.084441</td>\n",
       "      <td>0.003961</td>\n",
       "      <td>id927245</td>\n",
       "      <td>2.655311e-03</td>\n",
       "    </tr>\n",
       "    <tr>\n",
       "      <th>3</th>\n",
       "      <td>train</td>\n",
       "      <td>I30</td>\n",
       "      <td>no</td>\n",
       "      <td>19</td>\n",
       "      <td>19</td>\n",
       "      <td>app1</td>\n",
       "      <td>ios</td>\n",
       "      <td>25</td>\n",
       "      <td>0</td>\n",
       "      <td>0.000000</td>\n",
       "      <td>...</td>\n",
       "      <td>19</td>\n",
       "      <td>0</td>\n",
       "      <td>0.000000</td>\n",
       "      <td>71114</td>\n",
       "      <td>1001</td>\n",
       "      <td>1.407599</td>\n",
       "      <td>-2.345698</td>\n",
       "      <td>0.018965</td>\n",
       "      <td>id922188</td>\n",
       "      <td>1.349420e-02</td>\n",
       "    </tr>\n",
       "    <tr>\n",
       "      <th>4</th>\n",
       "      <td>train</td>\n",
       "      <td>I35</td>\n",
       "      <td>no</td>\n",
       "      <td>24</td>\n",
       "      <td>24</td>\n",
       "      <td>app1</td>\n",
       "      <td>android</td>\n",
       "      <td>3834</td>\n",
       "      <td>29</td>\n",
       "      <td>0.756390</td>\n",
       "      <td>...</td>\n",
       "      <td>329</td>\n",
       "      <td>4</td>\n",
       "      <td>1.215805</td>\n",
       "      <td>183852</td>\n",
       "      <td>2317</td>\n",
       "      <td>1.260253</td>\n",
       "      <td>0.429125</td>\n",
       "      <td>0.003961</td>\n",
       "      <td>id355833</td>\n",
       "      <td>1.868222e-03</td>\n",
       "    </tr>\n",
       "    <tr>\n",
       "      <th>...</th>\n",
       "      <td>...</td>\n",
       "      <td>...</td>\n",
       "      <td>...</td>\n",
       "      <td>...</td>\n",
       "      <td>...</td>\n",
       "      <td>...</td>\n",
       "      <td>...</td>\n",
       "      <td>...</td>\n",
       "      <td>...</td>\n",
       "      <td>...</td>\n",
       "      <td>...</td>\n",
       "      <td>...</td>\n",
       "      <td>...</td>\n",
       "      <td>...</td>\n",
       "      <td>...</td>\n",
       "      <td>...</td>\n",
       "      <td>...</td>\n",
       "      <td>...</td>\n",
       "      <td>...</td>\n",
       "      <td>...</td>\n",
       "      <td>...</td>\n",
       "    </tr>\n",
       "    <tr>\n",
       "      <th>115483</th>\n",
       "      <td>test</td>\n",
       "      <td>I399982</td>\n",
       "      <td>no</td>\n",
       "      <td>21</td>\n",
       "      <td>21</td>\n",
       "      <td>app2</td>\n",
       "      <td>ios</td>\n",
       "      <td>2110</td>\n",
       "      <td>0</td>\n",
       "      <td>0.000000</td>\n",
       "      <td>...</td>\n",
       "      <td>158</td>\n",
       "      <td>0</td>\n",
       "      <td>0.000000</td>\n",
       "      <td>23216</td>\n",
       "      <td>19</td>\n",
       "      <td>0.081840</td>\n",
       "      <td>-1.852059</td>\n",
       "      <td>0.003961</td>\n",
       "      <td>id847352</td>\n",
       "      <td>1.093091e-03</td>\n",
       "    </tr>\n",
       "    <tr>\n",
       "      <th>115484</th>\n",
       "      <td>test</td>\n",
       "      <td>I399986</td>\n",
       "      <td>no</td>\n",
       "      <td>17</td>\n",
       "      <td>17</td>\n",
       "      <td>app14</td>\n",
       "      <td>android</td>\n",
       "      <td>291</td>\n",
       "      <td>1</td>\n",
       "      <td>0.343643</td>\n",
       "      <td>...</td>\n",
       "      <td>74</td>\n",
       "      <td>1</td>\n",
       "      <td>1.351351</td>\n",
       "      <td>3665</td>\n",
       "      <td>14</td>\n",
       "      <td>0.381992</td>\n",
       "      <td>-0.296415</td>\n",
       "      <td>0.003961</td>\n",
       "      <td>id457437</td>\n",
       "      <td>3.609483e-03</td>\n",
       "    </tr>\n",
       "    <tr>\n",
       "      <th>115485</th>\n",
       "      <td>test</td>\n",
       "      <td>I399991</td>\n",
       "      <td>no</td>\n",
       "      <td>23</td>\n",
       "      <td>23</td>\n",
       "      <td>app1</td>\n",
       "      <td>android</td>\n",
       "      <td>364</td>\n",
       "      <td>3</td>\n",
       "      <td>0.824176</td>\n",
       "      <td>...</td>\n",
       "      <td>19</td>\n",
       "      <td>0</td>\n",
       "      <td>0.000000</td>\n",
       "      <td>173353</td>\n",
       "      <td>2292</td>\n",
       "      <td>1.322158</td>\n",
       "      <td>0.099201</td>\n",
       "      <td>0.003961</td>\n",
       "      <td>id792352</td>\n",
       "      <td>2.052670e-02</td>\n",
       "    </tr>\n",
       "    <tr>\n",
       "      <th>115486</th>\n",
       "      <td>test</td>\n",
       "      <td>I399992</td>\n",
       "      <td>no</td>\n",
       "      <td>20</td>\n",
       "      <td>20</td>\n",
       "      <td>app6</td>\n",
       "      <td>android</td>\n",
       "      <td>59</td>\n",
       "      <td>2</td>\n",
       "      <td>3.389831</td>\n",
       "      <td>...</td>\n",
       "      <td>37</td>\n",
       "      <td>1</td>\n",
       "      <td>2.702703</td>\n",
       "      <td>3474</td>\n",
       "      <td>53</td>\n",
       "      <td>1.525619</td>\n",
       "      <td>-0.186421</td>\n",
       "      <td>0.050679</td>\n",
       "      <td>id115678</td>\n",
       "      <td>2.192207e-02</td>\n",
       "    </tr>\n",
       "    <tr>\n",
       "      <th>115487</th>\n",
       "      <td>test</td>\n",
       "      <td>I399994</td>\n",
       "      <td>no</td>\n",
       "      <td>18</td>\n",
       "      <td>18</td>\n",
       "      <td>app1</td>\n",
       "      <td>ios</td>\n",
       "      <td>498</td>\n",
       "      <td>7</td>\n",
       "      <td>1.405622</td>\n",
       "      <td>...</td>\n",
       "      <td>53</td>\n",
       "      <td>1</td>\n",
       "      <td>1.886792</td>\n",
       "      <td>77884</td>\n",
       "      <td>1201</td>\n",
       "      <td>1.542037</td>\n",
       "      <td>0.857281</td>\n",
       "      <td>0.003961</td>\n",
       "      <td>id705546</td>\n",
       "      <td>1.170346e-02</td>\n",
       "    </tr>\n",
       "  </tbody>\n",
       "</table>\n",
       "<p>115488 rows × 23 columns</p>\n",
       "</div>"
      ],
      "text/plain": [
       "       training     inum click  time time_fct    app mobile_os  impup  clup  \\\n",
       "0         train       I7    no     9        9   app8       ios    439     2   \n",
       "1         train      I23    no    15       15   app1       ios     64     0   \n",
       "2         train      I28    no    12       12   app5       ios     80     0   \n",
       "3         train      I30    no    19       19   app1       ios     25     0   \n",
       "4         train      I35    no    24       24   app1   android   3834    29   \n",
       "...         ...      ...   ...   ...      ...    ...       ...    ...   ...   \n",
       "115483     test  I399982    no    21       21   app2       ios   2110     0   \n",
       "115484     test  I399986    no    17       17  app14   android    291     1   \n",
       "115485     test  I399991    no    23       23   app1   android    364     3   \n",
       "115486     test  I399992    no    20       20   app6   android     59     2   \n",
       "115487     test  I399994    no    18       18   app1       ios    498     7   \n",
       "\n",
       "           ctrup  ...  imput  clut     ctrut  imppat  clpat    ctrpat  \\\n",
       "0       0.455581  ...     25     0  0.000000      71      1  1.408451   \n",
       "1       0.000000  ...      7     0  0.000000   67312   1069  1.588127   \n",
       "2       0.000000  ...     94     0  0.000000     331      1  0.302115   \n",
       "3       0.000000  ...     19     0  0.000000   71114   1001  1.407599   \n",
       "4       0.756390  ...    329     4  1.215805  183852   2317  1.260253   \n",
       "...          ...  ...    ...   ...       ...     ...    ...       ...   \n",
       "115483  0.000000  ...    158     0  0.000000   23216     19  0.081840   \n",
       "115484  0.343643  ...     74     1  1.351351    3665     14  0.381992   \n",
       "115485  0.824176  ...     19     0  0.000000  173353   2292  1.322158   \n",
       "115486  3.389831  ...     37     1  2.702703    3474     53  1.525619   \n",
       "115487  1.405622  ...     53     1  1.886792   77884   1201  1.542037   \n",
       "\n",
       "             rnd  pred_vneta        id    pred_logit  \n",
       "0      -1.207066    0.003961  id247135  3.382977e-13  \n",
       "1       0.277429    0.003961  id245079  1.156355e-02  \n",
       "2       1.084441    0.003961  id927245  2.655311e-03  \n",
       "3      -2.345698    0.018965  id922188  1.349420e-02  \n",
       "4       0.429125    0.003961  id355833  1.868222e-03  \n",
       "...          ...         ...       ...           ...  \n",
       "115483 -1.852059    0.003961  id847352  1.093091e-03  \n",
       "115484 -0.296415    0.003961  id457437  3.609483e-03  \n",
       "115485  0.099201    0.003961  id792352  2.052670e-02  \n",
       "115486 -0.186421    0.050679  id115678  2.192207e-02  \n",
       "115487  0.857281    0.003961  id705546  1.170346e-02  \n",
       "\n",
       "[115488 rows x 23 columns]"
      ]
     },
     "execution_count": 10,
     "metadata": {},
     "output_type": "execute_result"
    }
   ],
   "source": [
    "tz_gaming[\"pred_logit\"] = pred_logit['prediction']\n",
    "tz_gaming"
   ]
  },
  {
   "attachments": {},
   "cell_type": "markdown",
   "id": "2c2e222a",
   "metadata": {},
   "source": [
    "d. Estimate a logistic regression with `click` as the response variable and `rnd` as the **only** explanatory variable. As before, the model should be estimated on the training sample (i.e., \"training == 'train'\"). Create a new variable `pred_rnd` with the predicted click-through probabilities (1 point)."
   ]
  },
  {
   "cell_type": "code",
   "execution_count": 11,
   "id": "d48da4cb",
   "metadata": {},
   "outputs": [
    {
     "name": "stdout",
     "output_type": "stream",
     "text": [
      "Logistic regression (GLM)\n",
      "Data                 : data\n",
      "Response variable    : click\n",
      "Level                : None\n",
      "Explanatory variables: rnd\n",
      "Null hyp.: There is no effect of x on click\n",
      "Alt. hyp.: There is an effect of x on click\n",
      "\n",
      "              OR     OR%  coefficient  std.error  z.value p.value     \n",
      "Intercept  0.009  -99.1%        -4.72      0.036 -130.657  < .001  ***\n",
      "rnd        0.965   -3.5%        -0.04      0.036   -0.986   0.324     \n",
      "\n",
      "Signif. codes:  0 '***' 0.001 '**' 0.01 '*' 0.05 '.' 0.1 ' ' 1\n",
      "\n",
      "Pseudo R-squared (McFadden): 0.0\n",
      "Pseudo R-squared (McFadden adjusted): -0.0\n",
      "Area under the RO Curve (AUC): 0.513\n",
      "Log-likelihood: -4429.726, AIC: 8863.451, BIC: 8882.211\n",
      "Chi-squared: 0.972, df(1), p.value 0.324 \n",
      "Nr obs: 87,535\n"
     ]
    }
   ],
   "source": [
    "lr_rnd = rsm.model.logistic(\n",
    "    data={\"data\": train_df},\n",
    "    rvar='click',      \n",
    "    evar=['rnd'],\n",
    ")\n",
    "\n",
    "lr_rnd.summary()\n"
   ]
  },
  {
   "cell_type": "code",
   "execution_count": 12,
   "id": "4cf9450b",
   "metadata": {},
   "outputs": [
    {
     "data": {
      "text/html": [
       "<div>\n",
       "<style scoped>\n",
       "    .dataframe tbody tr th:only-of-type {\n",
       "        vertical-align: middle;\n",
       "    }\n",
       "\n",
       "    .dataframe tbody tr th {\n",
       "        vertical-align: top;\n",
       "    }\n",
       "\n",
       "    .dataframe thead th {\n",
       "        text-align: right;\n",
       "    }\n",
       "</style>\n",
       "<table border=\"1\" class=\"dataframe\">\n",
       "  <thead>\n",
       "    <tr style=\"text-align: right;\">\n",
       "      <th></th>\n",
       "      <th>training</th>\n",
       "      <th>inum</th>\n",
       "      <th>click</th>\n",
       "      <th>time</th>\n",
       "      <th>time_fct</th>\n",
       "      <th>app</th>\n",
       "      <th>mobile_os</th>\n",
       "      <th>impup</th>\n",
       "      <th>clup</th>\n",
       "      <th>ctrup</th>\n",
       "      <th>...</th>\n",
       "      <th>clut</th>\n",
       "      <th>ctrut</th>\n",
       "      <th>imppat</th>\n",
       "      <th>clpat</th>\n",
       "      <th>ctrpat</th>\n",
       "      <th>rnd</th>\n",
       "      <th>pred_vneta</th>\n",
       "      <th>id</th>\n",
       "      <th>pred_logit</th>\n",
       "      <th>pred_rnd</th>\n",
       "    </tr>\n",
       "  </thead>\n",
       "  <tbody>\n",
       "    <tr>\n",
       "      <th>0</th>\n",
       "      <td>train</td>\n",
       "      <td>I7</td>\n",
       "      <td>no</td>\n",
       "      <td>9</td>\n",
       "      <td>9</td>\n",
       "      <td>app8</td>\n",
       "      <td>ios</td>\n",
       "      <td>439</td>\n",
       "      <td>2</td>\n",
       "      <td>0.455581</td>\n",
       "      <td>...</td>\n",
       "      <td>0</td>\n",
       "      <td>0.000000</td>\n",
       "      <td>71</td>\n",
       "      <td>1</td>\n",
       "      <td>1.408451</td>\n",
       "      <td>-1.207066</td>\n",
       "      <td>0.003961</td>\n",
       "      <td>id247135</td>\n",
       "      <td>3.382977e-13</td>\n",
       "      <td>0.009222</td>\n",
       "    </tr>\n",
       "    <tr>\n",
       "      <th>1</th>\n",
       "      <td>train</td>\n",
       "      <td>I23</td>\n",
       "      <td>no</td>\n",
       "      <td>15</td>\n",
       "      <td>15</td>\n",
       "      <td>app1</td>\n",
       "      <td>ios</td>\n",
       "      <td>64</td>\n",
       "      <td>0</td>\n",
       "      <td>0.000000</td>\n",
       "      <td>...</td>\n",
       "      <td>0</td>\n",
       "      <td>0.000000</td>\n",
       "      <td>67312</td>\n",
       "      <td>1069</td>\n",
       "      <td>1.588127</td>\n",
       "      <td>0.277429</td>\n",
       "      <td>0.003961</td>\n",
       "      <td>id245079</td>\n",
       "      <td>1.156355e-02</td>\n",
       "      <td>0.008751</td>\n",
       "    </tr>\n",
       "    <tr>\n",
       "      <th>2</th>\n",
       "      <td>train</td>\n",
       "      <td>I28</td>\n",
       "      <td>no</td>\n",
       "      <td>12</td>\n",
       "      <td>12</td>\n",
       "      <td>app5</td>\n",
       "      <td>ios</td>\n",
       "      <td>80</td>\n",
       "      <td>0</td>\n",
       "      <td>0.000000</td>\n",
       "      <td>...</td>\n",
       "      <td>0</td>\n",
       "      <td>0.000000</td>\n",
       "      <td>331</td>\n",
       "      <td>1</td>\n",
       "      <td>0.302115</td>\n",
       "      <td>1.084441</td>\n",
       "      <td>0.003961</td>\n",
       "      <td>id927245</td>\n",
       "      <td>2.655311e-03</td>\n",
       "      <td>0.008505</td>\n",
       "    </tr>\n",
       "    <tr>\n",
       "      <th>3</th>\n",
       "      <td>train</td>\n",
       "      <td>I30</td>\n",
       "      <td>no</td>\n",
       "      <td>19</td>\n",
       "      <td>19</td>\n",
       "      <td>app1</td>\n",
       "      <td>ios</td>\n",
       "      <td>25</td>\n",
       "      <td>0</td>\n",
       "      <td>0.000000</td>\n",
       "      <td>...</td>\n",
       "      <td>0</td>\n",
       "      <td>0.000000</td>\n",
       "      <td>71114</td>\n",
       "      <td>1001</td>\n",
       "      <td>1.407599</td>\n",
       "      <td>-2.345698</td>\n",
       "      <td>0.018965</td>\n",
       "      <td>id922188</td>\n",
       "      <td>1.349420e-02</td>\n",
       "      <td>0.009600</td>\n",
       "    </tr>\n",
       "    <tr>\n",
       "      <th>4</th>\n",
       "      <td>train</td>\n",
       "      <td>I35</td>\n",
       "      <td>no</td>\n",
       "      <td>24</td>\n",
       "      <td>24</td>\n",
       "      <td>app1</td>\n",
       "      <td>android</td>\n",
       "      <td>3834</td>\n",
       "      <td>29</td>\n",
       "      <td>0.756390</td>\n",
       "      <td>...</td>\n",
       "      <td>4</td>\n",
       "      <td>1.215805</td>\n",
       "      <td>183852</td>\n",
       "      <td>2317</td>\n",
       "      <td>1.260253</td>\n",
       "      <td>0.429125</td>\n",
       "      <td>0.003961</td>\n",
       "      <td>id355833</td>\n",
       "      <td>1.868222e-03</td>\n",
       "      <td>0.008704</td>\n",
       "    </tr>\n",
       "    <tr>\n",
       "      <th>...</th>\n",
       "      <td>...</td>\n",
       "      <td>...</td>\n",
       "      <td>...</td>\n",
       "      <td>...</td>\n",
       "      <td>...</td>\n",
       "      <td>...</td>\n",
       "      <td>...</td>\n",
       "      <td>...</td>\n",
       "      <td>...</td>\n",
       "      <td>...</td>\n",
       "      <td>...</td>\n",
       "      <td>...</td>\n",
       "      <td>...</td>\n",
       "      <td>...</td>\n",
       "      <td>...</td>\n",
       "      <td>...</td>\n",
       "      <td>...</td>\n",
       "      <td>...</td>\n",
       "      <td>...</td>\n",
       "      <td>...</td>\n",
       "      <td>...</td>\n",
       "    </tr>\n",
       "    <tr>\n",
       "      <th>115483</th>\n",
       "      <td>test</td>\n",
       "      <td>I399982</td>\n",
       "      <td>no</td>\n",
       "      <td>21</td>\n",
       "      <td>21</td>\n",
       "      <td>app2</td>\n",
       "      <td>ios</td>\n",
       "      <td>2110</td>\n",
       "      <td>0</td>\n",
       "      <td>0.000000</td>\n",
       "      <td>...</td>\n",
       "      <td>0</td>\n",
       "      <td>0.000000</td>\n",
       "      <td>23216</td>\n",
       "      <td>19</td>\n",
       "      <td>0.081840</td>\n",
       "      <td>-1.852059</td>\n",
       "      <td>0.003961</td>\n",
       "      <td>id847352</td>\n",
       "      <td>1.093091e-03</td>\n",
       "      <td>0.009435</td>\n",
       "    </tr>\n",
       "    <tr>\n",
       "      <th>115484</th>\n",
       "      <td>test</td>\n",
       "      <td>I399986</td>\n",
       "      <td>no</td>\n",
       "      <td>17</td>\n",
       "      <td>17</td>\n",
       "      <td>app14</td>\n",
       "      <td>android</td>\n",
       "      <td>291</td>\n",
       "      <td>1</td>\n",
       "      <td>0.343643</td>\n",
       "      <td>...</td>\n",
       "      <td>1</td>\n",
       "      <td>1.351351</td>\n",
       "      <td>3665</td>\n",
       "      <td>14</td>\n",
       "      <td>0.381992</td>\n",
       "      <td>-0.296415</td>\n",
       "      <td>0.003961</td>\n",
       "      <td>id457437</td>\n",
       "      <td>3.609483e-03</td>\n",
       "      <td>0.008930</td>\n",
       "    </tr>\n",
       "    <tr>\n",
       "      <th>115485</th>\n",
       "      <td>test</td>\n",
       "      <td>I399991</td>\n",
       "      <td>no</td>\n",
       "      <td>23</td>\n",
       "      <td>23</td>\n",
       "      <td>app1</td>\n",
       "      <td>android</td>\n",
       "      <td>364</td>\n",
       "      <td>3</td>\n",
       "      <td>0.824176</td>\n",
       "      <td>...</td>\n",
       "      <td>0</td>\n",
       "      <td>0.000000</td>\n",
       "      <td>173353</td>\n",
       "      <td>2292</td>\n",
       "      <td>1.322158</td>\n",
       "      <td>0.099201</td>\n",
       "      <td>0.003961</td>\n",
       "      <td>id792352</td>\n",
       "      <td>2.052670e-02</td>\n",
       "      <td>0.008806</td>\n",
       "    </tr>\n",
       "    <tr>\n",
       "      <th>115486</th>\n",
       "      <td>test</td>\n",
       "      <td>I399992</td>\n",
       "      <td>no</td>\n",
       "      <td>20</td>\n",
       "      <td>20</td>\n",
       "      <td>app6</td>\n",
       "      <td>android</td>\n",
       "      <td>59</td>\n",
       "      <td>2</td>\n",
       "      <td>3.389831</td>\n",
       "      <td>...</td>\n",
       "      <td>1</td>\n",
       "      <td>2.702703</td>\n",
       "      <td>3474</td>\n",
       "      <td>53</td>\n",
       "      <td>1.525619</td>\n",
       "      <td>-0.186421</td>\n",
       "      <td>0.050679</td>\n",
       "      <td>id115678</td>\n",
       "      <td>2.192207e-02</td>\n",
       "      <td>0.008896</td>\n",
       "    </tr>\n",
       "    <tr>\n",
       "      <th>115487</th>\n",
       "      <td>test</td>\n",
       "      <td>I399994</td>\n",
       "      <td>no</td>\n",
       "      <td>18</td>\n",
       "      <td>18</td>\n",
       "      <td>app1</td>\n",
       "      <td>ios</td>\n",
       "      <td>498</td>\n",
       "      <td>7</td>\n",
       "      <td>1.405622</td>\n",
       "      <td>...</td>\n",
       "      <td>1</td>\n",
       "      <td>1.886792</td>\n",
       "      <td>77884</td>\n",
       "      <td>1201</td>\n",
       "      <td>1.542037</td>\n",
       "      <td>0.857281</td>\n",
       "      <td>0.003961</td>\n",
       "      <td>id705546</td>\n",
       "      <td>1.170346e-02</td>\n",
       "      <td>0.008574</td>\n",
       "    </tr>\n",
       "  </tbody>\n",
       "</table>\n",
       "<p>115488 rows × 24 columns</p>\n",
       "</div>"
      ],
      "text/plain": [
       "       training     inum click  time time_fct    app mobile_os  impup  clup  \\\n",
       "0         train       I7    no     9        9   app8       ios    439     2   \n",
       "1         train      I23    no    15       15   app1       ios     64     0   \n",
       "2         train      I28    no    12       12   app5       ios     80     0   \n",
       "3         train      I30    no    19       19   app1       ios     25     0   \n",
       "4         train      I35    no    24       24   app1   android   3834    29   \n",
       "...         ...      ...   ...   ...      ...    ...       ...    ...   ...   \n",
       "115483     test  I399982    no    21       21   app2       ios   2110     0   \n",
       "115484     test  I399986    no    17       17  app14   android    291     1   \n",
       "115485     test  I399991    no    23       23   app1   android    364     3   \n",
       "115486     test  I399992    no    20       20   app6   android     59     2   \n",
       "115487     test  I399994    no    18       18   app1       ios    498     7   \n",
       "\n",
       "           ctrup  ...  clut     ctrut  imppat  clpat    ctrpat       rnd  \\\n",
       "0       0.455581  ...     0  0.000000      71      1  1.408451 -1.207066   \n",
       "1       0.000000  ...     0  0.000000   67312   1069  1.588127  0.277429   \n",
       "2       0.000000  ...     0  0.000000     331      1  0.302115  1.084441   \n",
       "3       0.000000  ...     0  0.000000   71114   1001  1.407599 -2.345698   \n",
       "4       0.756390  ...     4  1.215805  183852   2317  1.260253  0.429125   \n",
       "...          ...  ...   ...       ...     ...    ...       ...       ...   \n",
       "115483  0.000000  ...     0  0.000000   23216     19  0.081840 -1.852059   \n",
       "115484  0.343643  ...     1  1.351351    3665     14  0.381992 -0.296415   \n",
       "115485  0.824176  ...     0  0.000000  173353   2292  1.322158  0.099201   \n",
       "115486  3.389831  ...     1  2.702703    3474     53  1.525619 -0.186421   \n",
       "115487  1.405622  ...     1  1.886792   77884   1201  1.542037  0.857281   \n",
       "\n",
       "        pred_vneta        id    pred_logit  pred_rnd  \n",
       "0         0.003961  id247135  3.382977e-13  0.009222  \n",
       "1         0.003961  id245079  1.156355e-02  0.008751  \n",
       "2         0.003961  id927245  2.655311e-03  0.008505  \n",
       "3         0.018965  id922188  1.349420e-02  0.009600  \n",
       "4         0.003961  id355833  1.868222e-03  0.008704  \n",
       "...            ...       ...           ...       ...  \n",
       "115483    0.003961  id847352  1.093091e-03  0.009435  \n",
       "115484    0.003961  id457437  3.609483e-03  0.008930  \n",
       "115485    0.003961  id792352  2.052670e-02  0.008806  \n",
       "115486    0.050679  id115678  2.192207e-02  0.008896  \n",
       "115487    0.003961  id705546  1.170346e-02  0.008574  \n",
       "\n",
       "[115488 rows x 24 columns]"
      ]
     },
     "execution_count": 12,
     "metadata": {},
     "output_type": "execute_result"
    }
   ],
   "source": [
    "pred_rnd = lr_rnd.predict(tz_gaming)\n",
    "tz_gaming[\"pred_rnd\"] = pred_rnd['prediction']\n",
    "\n",
    "tz_gaming\n",
    "\n"
   ]
  },
  {
   "attachments": {},
   "cell_type": "markdown",
   "id": "b226af89",
   "metadata": {},
   "source": [
    "## Part II: Understanding Multicollinearity (10 points)"
   ]
  },
  {
   "attachments": {},
   "cell_type": "markdown",
   "id": "4b48ceb8",
   "metadata": {},
   "source": [
    "a. Estimate a logistic regression model with `click` as the response variable and `imppat`, `clpat`, and `ctrpat` as the only explanatory variables. What is the interpretation of the Prediction plots for the explanatory variables? (2 points)\n",
    "\n",
    "> Note: Make sure to watch the \"Video: TZ gaming preview (12 min)\" on Canvas before answering this questions so you fully understand what the variables represent"
   ]
  },
  {
   "cell_type": "code",
   "execution_count": 13,
   "id": "4a936edd",
   "metadata": {},
   "outputs": [
    {
     "name": "stdout",
     "output_type": "stream",
     "text": [
      "Logistic regression (GLM)\n",
      "Data                 : data\n",
      "Response variable    : click\n",
      "Level                : None\n",
      "Explanatory variables: imppat, clpat, ctrpat\n",
      "Null hyp.: There is no effect of x on click\n",
      "Alt. hyp.: There is an effect of x on click\n",
      "\n",
      "              OR     OR%  coefficient  std.error  z.value p.value     \n",
      "Intercept  0.004  -99.6%        -5.42      0.073  -74.156  < .001  ***\n",
      "imppat     1.000   -0.0%        -0.00      0.000   -4.802  < .001  ***\n",
      "clpat      1.002    0.2%         0.00      0.000    5.713  < .001  ***\n",
      "ctrpat     1.615   61.5%         0.48      0.034   13.933  < .001  ***\n",
      "\n",
      "Signif. codes:  0 '***' 0.001 '**' 0.01 '*' 0.05 '.' 0.1 ' ' 1\n",
      "\n",
      "Pseudo R-squared (McFadden): 0.035\n",
      "Pseudo R-squared (McFadden adjusted): 0.035\n",
      "Area under the RO Curve (AUC): 0.676\n",
      "Log-likelihood: -4273.088, AIC: 8554.176, BIC: 8591.695\n",
      "Chi-squared: 314.248, df(3), p.value < 0.001 \n",
      "Nr obs: 87,535\n"
     ]
    }
   ],
   "source": [
    "lr_mc1 = rsm.model.logistic(\n",
    "    data={\"data\": train_df},\n",
    "    rvar='click',    \n",
    "    evar=['imppat', 'clpat', 'ctrpat'],\n",
    ")\n",
    "lr_mc1.summary()"
   ]
  },
  {
   "cell_type": "markdown",
   "id": "71c84b94",
   "metadata": {},
   "source": [
    "All of the 3 variables have a positive relationship with the click rate. The relationships are also statistically significant as the p-values are all less than 0.001. This indicates that the more often a user has been shown the TZ ad across all apps or the higher the past CTR rate is, the higher the predicted probability they will click on it.However, the past click-through rate of the TZ ad across all apps does not appear to have a relationship with the predicted probability of clicking as the odds ratio is exactly 1.\n",
    "\n",
    "Adjusted Pseudo R-squared value of 0.035 indicates that the model has limited explanatory power, accounting for only about 4.1% of the variance in the likelihood of an ad being clicked. Despite this, the highly significant Chi-squared statistic of 314.248 with 3 degrees of freedom (df) and a p-value less than 0.001 suggests that the model, with its explanatory variables, does significantly better at predicting clicks than a null model that assumes no relationship between the variables and the outcome."
   ]
  },
  {
   "attachments": {},
   "cell_type": "markdown",
   "id": "e6598f93",
   "metadata": {},
   "source": [
    "b. Some of the variables in the dataset are highly correlated with each other. In particular, `imppat` and `clpat` have a strong positive correlation of 0.97. Discuss the implications of this (very) high level of collinearity and also different approaches to deal with it. What are the implications for the model and the interpretation of the Prediction plots? As part of your answer, discuss the change in the Prediction plot for `imppat` when you remove `clpat` from the model you estimated for II.a (4 points)."
   ]
  },
  {
   "cell_type": "code",
   "execution_count": 14,
   "id": "044e52cb",
   "metadata": {},
   "outputs": [
    {
     "name": "stdout",
     "output_type": "stream",
     "text": [
      "Logistic regression (GLM)\n",
      "Data                 : data\n",
      "Response variable    : click\n",
      "Level                : None\n",
      "Explanatory variables: imppat, clpat, ctrpat\n",
      "Null hyp.: There is no effect of x on click\n",
      "Alt. hyp.: There is an effect of x on click\n",
      "\n",
      "              OR     OR%  coefficient  std.error  z.value p.value     \n",
      "Intercept  0.004  -99.6%        -5.42      0.073  -74.156  < .001  ***\n",
      "imppat     1.000   -0.0%        -0.00      0.000   -4.802  < .001  ***\n",
      "clpat      1.002    0.2%         0.00      0.000    5.713  < .001  ***\n",
      "ctrpat     1.615   61.5%         0.48      0.034   13.933  < .001  ***\n",
      "\n",
      "Signif. codes:  0 '***' 0.001 '**' 0.01 '*' 0.05 '.' 0.1 ' ' 1\n",
      "\n",
      "Pseudo R-squared (McFadden): 0.035\n",
      "Pseudo R-squared (McFadden adjusted): 0.035\n",
      "Area under the RO Curve (AUC): 0.676\n",
      "Log-likelihood: -4273.088, AIC: 8554.176, BIC: 8591.695\n",
      "Chi-squared: 314.248, df(3), p.value < 0.001 \n",
      "Nr obs: 87,535\n",
      "\n",
      "Variance inflation factors:\n",
      "\n",
      "           vif    Rsq\n",
      "clpat   26.242  0.962\n",
      "imppat  23.467  0.957\n",
      "ctrpat   1.668  0.400\n"
     ]
    }
   ],
   "source": [
    "lr_mc1.summary(vif=True)"
   ]
  },
  {
   "cell_type": "markdown",
   "id": "8d3217d2",
   "metadata": {},
   "source": [
    "Here the vif score for the variable 'clpat' and 'imppat' is 26 and 23 which are very high, indicating that the two variables are highly correlated. This is a problem because it can lead to unstable estimates of regression coefficients, which makes it very difficult to assess the effect of independent variables on the dependent variable. \n",
    "\n",
    "There are multiple ways to deal with issue. The easiest would just be to remove one of the variables from the model. Another way would be to combine the two variables into one. This would mean that we would lose some information but it would be less than if we just removed one of the variables. We can also do feature engineering to create new variables that are not correlated with each other transforming or aggregating existing variables in a meaningful way."
   ]
  },
  {
   "cell_type": "markdown",
   "id": "7228265e",
   "metadata": {},
   "source": [
    "> Note: Assign your new model without `clpat` to a new object `lr_mc2`. Calculate VIF statistics for each explanatory variable in the model\n"
   ]
  },
  {
   "cell_type": "code",
   "execution_count": 15,
   "id": "df8dc2cd",
   "metadata": {},
   "outputs": [],
   "source": [
    "lr_mc2 = rsm.model.logistic(\n",
    "    data={\"data\": train_df},\n",
    "    rvar='click',      \n",
    "    evar=['imppat', 'ctrpat'],\n",
    ")\n"
   ]
  },
  {
   "cell_type": "code",
   "execution_count": 16,
   "id": "53983681",
   "metadata": {},
   "outputs": [
    {
     "name": "stdout",
     "output_type": "stream",
     "text": [
      "Logistic regression (GLM)\n",
      "Data                 : data\n",
      "Response variable    : click\n",
      "Level                : None\n",
      "Explanatory variables: imppat, ctrpat\n",
      "Null hyp.: There is no effect of x on click\n",
      "Alt. hyp.: There is an effect of x on click\n",
      "\n",
      "              OR     OR%  coefficient  std.error  z.value p.value     \n",
      "Intercept  0.004  -99.6%        -5.53      0.068  -80.814  < .001  ***\n",
      "imppat     1.000    0.0%         0.00      0.000    5.460  < .001  ***\n",
      "ctrpat     1.733   73.3%         0.55      0.030   18.422  < .001  ***\n",
      "\n",
      "Signif. codes:  0 '***' 0.001 '**' 0.01 '*' 0.05 '.' 0.1 ' ' 1\n",
      "\n",
      "Pseudo R-squared (McFadden): 0.031\n",
      "Pseudo R-squared (McFadden adjusted): 0.031\n",
      "Area under the RO Curve (AUC): 0.674\n",
      "Log-likelihood: -4290.903, AIC: 8587.805, BIC: 8615.945\n",
      "Chi-squared: 278.619, df(2), p.value < 0.001 \n",
      "Nr obs: 87,535\n",
      "\n",
      "Variance inflation factors:\n",
      "\n",
      "          vif    Rsq\n",
      "imppat  1.134  0.118\n",
      "ctrpat  1.134  0.118\n"
     ]
    }
   ],
   "source": [
    "lr_mc2.summary(vif=True)"
   ]
  },
  {
   "cell_type": "markdown",
   "id": "7a7655ef",
   "metadata": {},
   "source": [
    "By removing the variable 'clpat', the vif values for both variables are now 1.134 which are very close to 1 indicating that there is almost no correlation between the two variables and multicollinearity no longer exists."
   ]
  },
  {
   "cell_type": "code",
   "execution_count": 17,
   "id": "05db2400",
   "metadata": {},
   "outputs": [
    {
     "data": {
      "image/png": "[encoded data removed]",
      "text/plain": [
       "<Figure size 1000x800 with 3 Axes>"
      ]
     },
     "metadata": {},
     "output_type": "display_data"
    },
    {
     "data": {
      "image/png": "[encoded data removed]",
      "text/plain": [
       "<Figure size 1000x800 with 2 Axes>"
      ]
     },
     "metadata": {},
     "output_type": "display_data"
    }
   ],
   "source": [
    "lr_mc1.plot(plots = 'pred')\n",
    "lr_mc2.plot(plots = 'pred')"
   ]
  },
  {
   "cell_type": "markdown",
   "id": "a66504dd",
   "metadata": {},
   "source": [
    "The first plot shows a flat relationship between predicted probability and 'imppat' and 'ctrpat'. This indicates that these two variables do not have much impact on the predicted probability of clicking. The second plot shows a much stronger positive relationship between predicted probability and 'ctrpat'. This indicates that the more often a user has clicked on the TZ ad across all apps in the past, the higher the predicted probability they will click on it again."
   ]
  },
  {
   "attachments": {},
   "cell_type": "markdown",
   "id": "7683d2e9",
   "metadata": {},
   "source": [
    "c. Estimate another logistic regression model with `click` as the response variable and `time_fct`, `app`, `imppat`, `clpat`, and `ctrpat` as the explanatory variable. Why are the Prediction plots for `imppat`, `clpat`, and `ctrpat` different compared to the plots from the model you estimated in II.a? Please be specific and investigate beyond simply stating the statistical problem (4 points).\n"
   ]
  },
  {
   "cell_type": "code",
   "execution_count": 18,
   "id": "684ddad0",
   "metadata": {},
   "outputs": [],
   "source": [
    "lr_mc3 = rsm.model.logistic(\n",
    "    data={\"data\": train_df},\n",
    "    rvar='click',      \n",
    "    evar=['time_fct', 'app', 'imppat', 'clpat', 'ctrpat'],\n",
    ")\n"
   ]
  },
  {
   "cell_type": "code",
   "execution_count": 19,
   "id": "e3dd75dc",
   "metadata": {},
   "outputs": [
    {
     "data": {
      "image/png": "[encoded data removed]",
      "text/plain": [
       "<Figure size 1000x1000 with 5 Axes>"
      ]
     },
     "metadata": {},
     "output_type": "display_data"
    }
   ],
   "source": [
    "lr_mc3.plot(plots = 'pred')"
   ]
  },
  {
   "cell_type": "markdown",
   "id": "14e5d3da",
   "metadata": {},
   "source": [
    "The reason why the prediction plots for 'imppat', 'clpat', and 'ctrpat' are different compared to the plots from the model estimated in II.a is because two additional variables 'time_fct' and 'app' are added to the model. The addition of these two variables has changed the relationship between the explanatory variables and the response variable. The additional variables may change the importance of the variables, interact with the existing variables, change the model complexity etc. All of which will change the relationship between the explanatory variables and the response variable and thus produce different prediction plots."
   ]
  },
  {
   "cell_type": "markdown",
   "id": "1914626a",
   "metadata": {},
   "source": [
    "## Part III: Decile Analysis of Logistic Regression Results (5 points)\n",
    "\n",
    "> Note: For the following questions, use only the \"test\" sample of impressions (i.e., 27,953 rows\n",
    "where \"training == 'test'\")"
   ]
  },
  {
   "attachments": {},
   "cell_type": "markdown",
   "id": "967c4929",
   "metadata": {},
   "source": [
    "a. Assign each impression to a decile based on the predicted probability of click through (`pred_logit`) based on the model estimated in I.a. Create a new variable `pred_logit_dec` that captures this information. Note: The first decile should have the highest average click-through rate. If not, make sure to \"reverse\" the decile numbers (i.e., 10 becomes 1, 9 becomes 2, etc.). Use the `xtile` function from the `pyrsm` package to create the deciles (2 points)"
   ]
  },
  {
   "cell_type": "code",
   "execution_count": 20,
   "id": "44c2d5e6",
   "metadata": {},
   "outputs": [],
   "source": [
    "test_df = tz_gaming[tz_gaming['training'] == 'test']"
   ]
  },
  {
   "cell_type": "code",
   "execution_count": 21,
   "id": "a6c54059",
   "metadata": {},
   "outputs": [],
   "source": [
    "tz_gaming[\"pred_logit_dec\"] = (tz_gaming\n",
    "                               .groupby('training')\n",
    "                               .pred_logit\n",
    "                               .transform(rsm.xtile, 10, rev=True)\n",
    ")\n"
   ]
  },
  {
   "attachments": {},
   "cell_type": "markdown",
   "id": "5891e241",
   "metadata": {},
   "source": [
    "b. Report the number of impressions, the number of clicks, and the click-through rate for the TZ ad per decile and save this information to a DataFrame. Use the name `dec_tab` for the new data frame (2 points)"
   ]
  },
  {
   "cell_type": "code",
   "execution_count": 22,
   "id": "bbc11aba",
   "metadata": {},
   "outputs": [],
   "source": [
    "tz_gaming['click_binary'] = np.where(tz_gaming['click'] == 'yes', 1, 0)\n"
   ]
  },
  {
   "cell_type": "code",
   "execution_count": 23,
   "id": "9bee1054",
   "metadata": {},
   "outputs": [],
   "source": [
    "# your data frame should have columns called 'nr_impressions', 'nr_clicks', and 'ctr'\n",
    "# to calculate these values you need deciles, the number of rows (impressions)\n",
    "# in each decile, the number of clicks in each decile using the `click` variable,\n",
    "# and the ratio of clicks to impressions (ctr)\n",
    "dec_tab = tz_gaming[tz_gaming['training'] == 'test'].groupby('pred_logit_dec').agg(\n",
    "    nr_impressions=('pred_logit', 'count'),\n",
    "    nr_click=('click_binary', 'sum'),\n",
    "    ctr=('click_binary', 'mean')\n",
    ").reset_index()"
   ]
  },
  {
   "cell_type": "code",
   "execution_count": 24,
   "id": "0cef4ff3",
   "metadata": {},
   "outputs": [
    {
     "data": {
      "text/html": [
       "<div>\n",
       "<style scoped>\n",
       "    .dataframe tbody tr th:only-of-type {\n",
       "        vertical-align: middle;\n",
       "    }\n",
       "\n",
       "    .dataframe tbody tr th {\n",
       "        vertical-align: top;\n",
       "    }\n",
       "\n",
       "    .dataframe thead th {\n",
       "        text-align: right;\n",
       "    }\n",
       "</style>\n",
       "<table border=\"1\" class=\"dataframe\">\n",
       "  <thead>\n",
       "    <tr style=\"text-align: right;\">\n",
       "      <th></th>\n",
       "      <th>pred_logit_dec</th>\n",
       "      <th>nr_impressions</th>\n",
       "      <th>nr_click</th>\n",
       "      <th>ctr</th>\n",
       "    </tr>\n",
       "  </thead>\n",
       "  <tbody>\n",
       "    <tr>\n",
       "      <th>0</th>\n",
       "      <td>1</td>\n",
       "      <td>2796</td>\n",
       "      <td>103</td>\n",
       "      <td>0.036838</td>\n",
       "    </tr>\n",
       "    <tr>\n",
       "      <th>1</th>\n",
       "      <td>2</td>\n",
       "      <td>2793</td>\n",
       "      <td>48</td>\n",
       "      <td>0.017186</td>\n",
       "    </tr>\n",
       "    <tr>\n",
       "      <th>2</th>\n",
       "      <td>3</td>\n",
       "      <td>2788</td>\n",
       "      <td>42</td>\n",
       "      <td>0.015065</td>\n",
       "    </tr>\n",
       "    <tr>\n",
       "      <th>3</th>\n",
       "      <td>4</td>\n",
       "      <td>2796</td>\n",
       "      <td>30</td>\n",
       "      <td>0.010730</td>\n",
       "    </tr>\n",
       "    <tr>\n",
       "      <th>4</th>\n",
       "      <td>5</td>\n",
       "      <td>2802</td>\n",
       "      <td>15</td>\n",
       "      <td>0.005353</td>\n",
       "    </tr>\n",
       "    <tr>\n",
       "      <th>5</th>\n",
       "      <td>6</td>\n",
       "      <td>2796</td>\n",
       "      <td>7</td>\n",
       "      <td>0.002504</td>\n",
       "    </tr>\n",
       "    <tr>\n",
       "      <th>6</th>\n",
       "      <td>7</td>\n",
       "      <td>2794</td>\n",
       "      <td>7</td>\n",
       "      <td>0.002505</td>\n",
       "    </tr>\n",
       "    <tr>\n",
       "      <th>7</th>\n",
       "      <td>8</td>\n",
       "      <td>2796</td>\n",
       "      <td>3</td>\n",
       "      <td>0.001073</td>\n",
       "    </tr>\n",
       "    <tr>\n",
       "      <th>8</th>\n",
       "      <td>9</td>\n",
       "      <td>2796</td>\n",
       "      <td>4</td>\n",
       "      <td>0.001431</td>\n",
       "    </tr>\n",
       "    <tr>\n",
       "      <th>9</th>\n",
       "      <td>10</td>\n",
       "      <td>2796</td>\n",
       "      <td>12</td>\n",
       "      <td>0.004292</td>\n",
       "    </tr>\n",
       "  </tbody>\n",
       "</table>\n",
       "</div>"
      ],
      "text/plain": [
       "   pred_logit_dec  nr_impressions  nr_click       ctr\n",
       "0               1            2796       103  0.036838\n",
       "1               2            2793        48  0.017186\n",
       "2               3            2788        42  0.015065\n",
       "3               4            2796        30  0.010730\n",
       "4               5            2802        15  0.005353\n",
       "5               6            2796         7  0.002504\n",
       "6               7            2794         7  0.002505\n",
       "7               8            2796         3  0.001073\n",
       "8               9            2796         4  0.001431\n",
       "9              10            2796        12  0.004292"
      ]
     },
     "execution_count": 24,
     "metadata": {},
     "output_type": "execute_result"
    }
   ],
   "source": [
    "dec_tab"
   ]
  },
  {
   "attachments": {},
   "cell_type": "markdown",
   "id": "395633c9",
   "metadata": {},
   "source": [
    "c. Create a bar chart of click-through rates per decile (i.e., use `pred_logit_dec` as the x-variable and `ctr` as the y-variable). Note that the \"click through rate\" is not the same as the \"predicted probability of click.\" The click-through rate captures the proportion of impressions in a given group (e.g., in a decile) that actually resulted in a click (1 point)\n"
   ]
  },
  {
   "cell_type": "code",
   "execution_count": 25,
   "id": "3373269e",
   "metadata": {},
   "outputs": [
    {
     "data": {
      "text/plain": [
       "<matplotlib.lines.Line2D at 0xffff495e3390>"
      ]
     },
     "execution_count": 25,
     "metadata": {},
     "output_type": "execute_result"
    },
    {
     "data": {
      "image/png": "[encoded data removed]",
      "text/plain": [
       "<Figure size 640x480 with 1 Axes>"
      ]
     },
     "metadata": {},
     "output_type": "display_data"
    }
   ],
   "source": [
    "fig = dec_tab.plot.bar(\n",
    "    x=\"pred_logit_dec\", y=\"ctr\", rot=0, color=\"slateblue\", legend=None\n",
    ")\n",
    "fig.axhline(y=tz_gaming['click_binary'].mean(), linestyle=\"--\")"
   ]
  },
  {
   "cell_type": "markdown",
   "id": "e7d58aeb",
   "metadata": {},
   "source": [
    "## Part IV: Lift, Gains, and Profit (15 points)"
   ]
  },
  {
   "attachments": {},
   "cell_type": "markdown",
   "id": "dcbadd21",
   "metadata": {},
   "source": [
    "Use the `dec_tab` DataFrame you created in Part III for the following calculations.\n",
    "\n",
    "a. Write python code to generate a table with the cumulative proportion of impressions and the cumulative gains for each decile (8 points)\n",
    "\n",
    "> Note: Do NOT use any specialized python packages to construct the gains table. Write the python code from scratch. Feel free use ChatGPT or CoPilot, but make sure that it does not use any specialized packages to construct the gains table. Be prepared to discuss the code you submit for this question in class if called upon"
   ]
  },
  {
   "cell_type": "code",
   "execution_count": 26,
   "id": "28fa820f",
   "metadata": {},
   "outputs": [],
   "source": [
    "gains_tab = dec_tab"
   ]
  },
  {
   "cell_type": "code",
   "execution_count": 27,
   "id": "3bd86151",
   "metadata": {},
   "outputs": [
    {
     "data": {
      "text/html": [
       "<div>\n",
       "<style scoped>\n",
       "    .dataframe tbody tr th:only-of-type {\n",
       "        vertical-align: middle;\n",
       "    }\n",
       "\n",
       "    .dataframe tbody tr th {\n",
       "        vertical-align: top;\n",
       "    }\n",
       "\n",
       "    .dataframe thead th {\n",
       "        text-align: right;\n",
       "    }\n",
       "</style>\n",
       "<table border=\"1\" class=\"dataframe\">\n",
       "  <thead>\n",
       "    <tr style=\"text-align: right;\">\n",
       "      <th></th>\n",
       "      <th>pred_logit_dec</th>\n",
       "      <th>nr_impressions</th>\n",
       "      <th>nr_click</th>\n",
       "      <th>ctr</th>\n",
       "    </tr>\n",
       "  </thead>\n",
       "  <tbody>\n",
       "    <tr>\n",
       "      <th>0</th>\n",
       "      <td>1</td>\n",
       "      <td>2796</td>\n",
       "      <td>103</td>\n",
       "      <td>0.036838</td>\n",
       "    </tr>\n",
       "    <tr>\n",
       "      <th>1</th>\n",
       "      <td>2</td>\n",
       "      <td>2793</td>\n",
       "      <td>48</td>\n",
       "      <td>0.017186</td>\n",
       "    </tr>\n",
       "    <tr>\n",
       "      <th>2</th>\n",
       "      <td>3</td>\n",
       "      <td>2788</td>\n",
       "      <td>42</td>\n",
       "      <td>0.015065</td>\n",
       "    </tr>\n",
       "    <tr>\n",
       "      <th>3</th>\n",
       "      <td>4</td>\n",
       "      <td>2796</td>\n",
       "      <td>30</td>\n",
       "      <td>0.010730</td>\n",
       "    </tr>\n",
       "    <tr>\n",
       "      <th>4</th>\n",
       "      <td>5</td>\n",
       "      <td>2802</td>\n",
       "      <td>15</td>\n",
       "      <td>0.005353</td>\n",
       "    </tr>\n",
       "    <tr>\n",
       "      <th>5</th>\n",
       "      <td>6</td>\n",
       "      <td>2796</td>\n",
       "      <td>7</td>\n",
       "      <td>0.002504</td>\n",
       "    </tr>\n",
       "    <tr>\n",
       "      <th>6</th>\n",
       "      <td>7</td>\n",
       "      <td>2794</td>\n",
       "      <td>7</td>\n",
       "      <td>0.002505</td>\n",
       "    </tr>\n",
       "    <tr>\n",
       "      <th>7</th>\n",
       "      <td>8</td>\n",
       "      <td>2796</td>\n",
       "      <td>3</td>\n",
       "      <td>0.001073</td>\n",
       "    </tr>\n",
       "    <tr>\n",
       "      <th>8</th>\n",
       "      <td>9</td>\n",
       "      <td>2796</td>\n",
       "      <td>4</td>\n",
       "      <td>0.001431</td>\n",
       "    </tr>\n",
       "    <tr>\n",
       "      <th>9</th>\n",
       "      <td>10</td>\n",
       "      <td>2796</td>\n",
       "      <td>12</td>\n",
       "      <td>0.004292</td>\n",
       "    </tr>\n",
       "  </tbody>\n",
       "</table>\n",
       "</div>"
      ],
      "text/plain": [
       "   pred_logit_dec  nr_impressions  nr_click       ctr\n",
       "0               1            2796       103  0.036838\n",
       "1               2            2793        48  0.017186\n",
       "2               3            2788        42  0.015065\n",
       "3               4            2796        30  0.010730\n",
       "4               5            2802        15  0.005353\n",
       "5               6            2796         7  0.002504\n",
       "6               7            2794         7  0.002505\n",
       "7               8            2796         3  0.001073\n",
       "8               9            2796         4  0.001431\n",
       "9              10            2796        12  0.004292"
      ]
     },
     "execution_count": 27,
     "metadata": {},
     "output_type": "execute_result"
    }
   ],
   "source": [
    "gains_tab"
   ]
  },
  {
   "cell_type": "code",
   "execution_count": 28,
   "id": "01e49bcf",
   "metadata": {},
   "outputs": [
    {
     "data": {
      "text/html": [
       "<div>\n",
       "<style scoped>\n",
       "    .dataframe tbody tr th:only-of-type {\n",
       "        vertical-align: middle;\n",
       "    }\n",
       "\n",
       "    .dataframe tbody tr th {\n",
       "        vertical-align: top;\n",
       "    }\n",
       "\n",
       "    .dataframe thead th {\n",
       "        text-align: right;\n",
       "    }\n",
       "</style>\n",
       "<table border=\"1\" class=\"dataframe\">\n",
       "  <thead>\n",
       "    <tr style=\"text-align: right;\">\n",
       "      <th></th>\n",
       "      <th>pred_logit_dec</th>\n",
       "      <th>nr_impressions</th>\n",
       "      <th>nr_click</th>\n",
       "      <th>ctr</th>\n",
       "      <th>cum_nobs</th>\n",
       "      <th>cum_clicks</th>\n",
       "      <th>cum_prop_nobs</th>\n",
       "      <th>cum_prop_clicks</th>\n",
       "    </tr>\n",
       "  </thead>\n",
       "  <tbody>\n",
       "    <tr>\n",
       "      <th>0</th>\n",
       "      <td>1</td>\n",
       "      <td>2796</td>\n",
       "      <td>103</td>\n",
       "      <td>0.036838</td>\n",
       "      <td>2796</td>\n",
       "      <td>103</td>\n",
       "      <td>0.100025</td>\n",
       "      <td>0.380074</td>\n",
       "    </tr>\n",
       "    <tr>\n",
       "      <th>1</th>\n",
       "      <td>2</td>\n",
       "      <td>2793</td>\n",
       "      <td>48</td>\n",
       "      <td>0.017186</td>\n",
       "      <td>5589</td>\n",
       "      <td>151</td>\n",
       "      <td>0.199943</td>\n",
       "      <td>0.557196</td>\n",
       "    </tr>\n",
       "    <tr>\n",
       "      <th>2</th>\n",
       "      <td>3</td>\n",
       "      <td>2788</td>\n",
       "      <td>42</td>\n",
       "      <td>0.015065</td>\n",
       "      <td>8377</td>\n",
       "      <td>193</td>\n",
       "      <td>0.299682</td>\n",
       "      <td>0.712177</td>\n",
       "    </tr>\n",
       "    <tr>\n",
       "      <th>3</th>\n",
       "      <td>4</td>\n",
       "      <td>2796</td>\n",
       "      <td>30</td>\n",
       "      <td>0.010730</td>\n",
       "      <td>11173</td>\n",
       "      <td>223</td>\n",
       "      <td>0.399707</td>\n",
       "      <td>0.822878</td>\n",
       "    </tr>\n",
       "    <tr>\n",
       "      <th>4</th>\n",
       "      <td>5</td>\n",
       "      <td>2802</td>\n",
       "      <td>15</td>\n",
       "      <td>0.005353</td>\n",
       "      <td>13975</td>\n",
       "      <td>238</td>\n",
       "      <td>0.499946</td>\n",
       "      <td>0.878229</td>\n",
       "    </tr>\n",
       "    <tr>\n",
       "      <th>5</th>\n",
       "      <td>6</td>\n",
       "      <td>2796</td>\n",
       "      <td>7</td>\n",
       "      <td>0.002504</td>\n",
       "      <td>16771</td>\n",
       "      <td>245</td>\n",
       "      <td>0.599971</td>\n",
       "      <td>0.904059</td>\n",
       "    </tr>\n",
       "    <tr>\n",
       "      <th>6</th>\n",
       "      <td>7</td>\n",
       "      <td>2794</td>\n",
       "      <td>7</td>\n",
       "      <td>0.002505</td>\n",
       "      <td>19565</td>\n",
       "      <td>252</td>\n",
       "      <td>0.699925</td>\n",
       "      <td>0.929889</td>\n",
       "    </tr>\n",
       "    <tr>\n",
       "      <th>7</th>\n",
       "      <td>8</td>\n",
       "      <td>2796</td>\n",
       "      <td>3</td>\n",
       "      <td>0.001073</td>\n",
       "      <td>22361</td>\n",
       "      <td>255</td>\n",
       "      <td>0.799950</td>\n",
       "      <td>0.940959</td>\n",
       "    </tr>\n",
       "    <tr>\n",
       "      <th>8</th>\n",
       "      <td>9</td>\n",
       "      <td>2796</td>\n",
       "      <td>4</td>\n",
       "      <td>0.001431</td>\n",
       "      <td>25157</td>\n",
       "      <td>259</td>\n",
       "      <td>0.899975</td>\n",
       "      <td>0.955720</td>\n",
       "    </tr>\n",
       "    <tr>\n",
       "      <th>9</th>\n",
       "      <td>10</td>\n",
       "      <td>2796</td>\n",
       "      <td>12</td>\n",
       "      <td>0.004292</td>\n",
       "      <td>27953</td>\n",
       "      <td>271</td>\n",
       "      <td>1.000000</td>\n",
       "      <td>1.000000</td>\n",
       "    </tr>\n",
       "  </tbody>\n",
       "</table>\n",
       "</div>"
      ],
      "text/plain": [
       "   pred_logit_dec  nr_impressions  nr_click       ctr  cum_nobs  cum_clicks  \\\n",
       "0               1            2796       103  0.036838      2796         103   \n",
       "1               2            2793        48  0.017186      5589         151   \n",
       "2               3            2788        42  0.015065      8377         193   \n",
       "3               4            2796        30  0.010730     11173         223   \n",
       "4               5            2802        15  0.005353     13975         238   \n",
       "5               6            2796         7  0.002504     16771         245   \n",
       "6               7            2794         7  0.002505     19565         252   \n",
       "7               8            2796         3  0.001073     22361         255   \n",
       "8               9            2796         4  0.001431     25157         259   \n",
       "9              10            2796        12  0.004292     27953         271   \n",
       "\n",
       "   cum_prop_nobs  cum_prop_clicks  \n",
       "0       0.100025         0.380074  \n",
       "1       0.199943         0.557196  \n",
       "2       0.299682         0.712177  \n",
       "3       0.399707         0.822878  \n",
       "4       0.499946         0.878229  \n",
       "5       0.599971         0.904059  \n",
       "6       0.699925         0.929889  \n",
       "7       0.799950         0.940959  \n",
       "8       0.899975         0.955720  \n",
       "9       1.000000         1.000000  "
      ]
     },
     "execution_count": 28,
     "metadata": {},
     "output_type": "execute_result"
    }
   ],
   "source": [
    "gains_tab['cum_nobs'] = gains_tab['nr_impressions'].cumsum()\n",
    "gains_tab['cum_clicks'] = gains_tab['nr_click'].cumsum()\n",
    "\n",
    "total_nobs = gains_tab['nr_impressions'].sum()\n",
    "total_clicks = gains_tab['nr_click'].sum()\n",
    "\n",
    "gains_tab['cum_prop_nobs'] = gains_tab['cum_nobs'] / total_nobs\n",
    "gains_tab['cum_prop_clicks'] = gains_tab['cum_clicks'] / total_clicks\n",
    "\n",
    "gains_tab "
   ]
  },
  {
   "attachments": {},
   "cell_type": "markdown",
   "id": "fc77f760",
   "metadata": {},
   "source": [
    "b. Use `seaborn`, `matplotlib`, or `pandas` to create a chart showing the cumulative gains per decile along with a (diagonal) reference line to represent the \"no model\" scenario. Put cumulative gains on the Y-axis and cumulative proportion of impressions on the X-axis (7 points)\n",
    "\n",
    "> Note: Do NOT use any specialized packages to construct the gains chart. Write the python code from scratch. Feel free use ChatGPT or CoPilot, but make sure that it does not use any specialized packages to construct the gains table. Be prepared to discuss the code you submit for this question in class if called upon"
   ]
  },
  {
   "cell_type": "code",
   "execution_count": 29,
   "id": "92690368",
   "metadata": {},
   "outputs": [
    {
     "data": {
      "image/png": "[encoded data removed]",
      "text/plain": [
       "<Figure size 640x480 with 1 Axes>"
      ]
     },
     "metadata": {},
     "output_type": "display_data"
    }
   ],
   "source": [
    "plt.plot(gains_tab['cum_prop_nobs'], gains_tab['cum_prop_clicks'], marker='o', color='slateblue', label='Model')\n",
    "plt.plot([0, 1], [0, 1], color='grey', linestyle='--', label='No Model')\n",
    "\n",
    "plt.xlabel('Cumulative Proportion of Impressions')\n",
    "plt.ylabel('Cumulative Gains')\n",
    "plt.title('Gains Chart')\n",
    "plt.legend()\n",
    "\n",
    "plt.show()"
   ]
  },
  {
   "cell_type": "markdown",
   "id": "bbeffd06",
   "metadata": {},
   "source": [
    "## Part V: Confusion matrix (10 points)"
   ]
  },
  {
   "attachments": {},
   "cell_type": "markdown",
   "id": "75aa6cc2",
   "metadata": {},
   "source": [
    "a. Create a \"confusion matrix\" based on the predictions from the logistic regression model you estimated in Part I.a (i.e., the model used to generate `pred_logit`). Again, use **only** data from the test set here (i.e., \"training == 'test'\"). Use the financial assumptions mentioned above, and repeated in section VI below, to determine an appropriate cut-off (i.e., breakeven). Calculate \"accuracy\" based on the confusion matrix you created (2 points)\n",
    "\n",
    "> Note: Do NOT use any specialized packages to construct the confusion matrix. Code the matrix from scratch.  Feel free use ChatGPT or CoPilot, but make sure that it does not use any specialized packages to construct the gains table. Be prepared to discuss the code you submit for this question in class if called upon"
   ]
  },
  {
   "cell_type": "markdown",
   "id": "4250719d",
   "metadata": {},
   "source": [
    "> Note use the code format below to store the relevant values from your confusion matrix"
   ]
  },
  {
   "cell_type": "code",
   "execution_count": 30,
   "id": "93ad152d",
   "metadata": {},
   "outputs": [
    {
     "data": {
      "text/html": [
       "<div>\n",
       "<style scoped>\n",
       "    .dataframe tbody tr th:only-of-type {\n",
       "        vertical-align: middle;\n",
       "    }\n",
       "\n",
       "    .dataframe tbody tr th {\n",
       "        vertical-align: top;\n",
       "    }\n",
       "\n",
       "    .dataframe thead th {\n",
       "        text-align: right;\n",
       "    }\n",
       "</style>\n",
       "<table border=\"1\" class=\"dataframe\">\n",
       "  <thead>\n",
       "    <tr style=\"text-align: right;\">\n",
       "      <th></th>\n",
       "      <th>training</th>\n",
       "      <th>inum</th>\n",
       "      <th>click</th>\n",
       "      <th>time</th>\n",
       "      <th>time_fct</th>\n",
       "      <th>app</th>\n",
       "      <th>mobile_os</th>\n",
       "      <th>impup</th>\n",
       "      <th>clup</th>\n",
       "      <th>ctrup</th>\n",
       "      <th>...</th>\n",
       "      <th>imppat</th>\n",
       "      <th>clpat</th>\n",
       "      <th>ctrpat</th>\n",
       "      <th>rnd</th>\n",
       "      <th>pred_vneta</th>\n",
       "      <th>id</th>\n",
       "      <th>pred_logit</th>\n",
       "      <th>pred_rnd</th>\n",
       "      <th>pred_logit_dec</th>\n",
       "      <th>click_binary</th>\n",
       "    </tr>\n",
       "  </thead>\n",
       "  <tbody>\n",
       "    <tr>\n",
       "      <th>87535</th>\n",
       "      <td>test</td>\n",
       "      <td>I300002</td>\n",
       "      <td>no</td>\n",
       "      <td>21</td>\n",
       "      <td>21</td>\n",
       "      <td>app1</td>\n",
       "      <td>android</td>\n",
       "      <td>1458</td>\n",
       "      <td>3</td>\n",
       "      <td>0.205761</td>\n",
       "      <td>...</td>\n",
       "      <td>68113</td>\n",
       "      <td>957</td>\n",
       "      <td>1.405018</td>\n",
       "      <td>0.147891</td>\n",
       "      <td>0.003961</td>\n",
       "      <td>id466983</td>\n",
       "      <td>1.020981e-02</td>\n",
       "      <td>0.008791</td>\n",
       "      <td>4</td>\n",
       "      <td>0</td>\n",
       "    </tr>\n",
       "    <tr>\n",
       "      <th>87536</th>\n",
       "      <td>test</td>\n",
       "      <td>I300006</td>\n",
       "      <td>no</td>\n",
       "      <td>3</td>\n",
       "      <td>3</td>\n",
       "      <td>app40</td>\n",
       "      <td>ios</td>\n",
       "      <td>3</td>\n",
       "      <td>0</td>\n",
       "      <td>0.000000</td>\n",
       "      <td>...</td>\n",
       "      <td>50</td>\n",
       "      <td>0</td>\n",
       "      <td>0.000000</td>\n",
       "      <td>0.383246</td>\n",
       "      <td>0.018965</td>\n",
       "      <td>id946375</td>\n",
       "      <td>8.665095e-03</td>\n",
       "      <td>0.008718</td>\n",
       "      <td>4</td>\n",
       "      <td>0</td>\n",
       "    </tr>\n",
       "    <tr>\n",
       "      <th>87537</th>\n",
       "      <td>test</td>\n",
       "      <td>I300012</td>\n",
       "      <td>no</td>\n",
       "      <td>5</td>\n",
       "      <td>5</td>\n",
       "      <td>app12</td>\n",
       "      <td>android</td>\n",
       "      <td>5057</td>\n",
       "      <td>6</td>\n",
       "      <td>0.118647</td>\n",
       "      <td>...</td>\n",
       "      <td>754</td>\n",
       "      <td>8</td>\n",
       "      <td>1.061008</td>\n",
       "      <td>1.274485</td>\n",
       "      <td>0.003961</td>\n",
       "      <td>id479295</td>\n",
       "      <td>1.910723e-14</td>\n",
       "      <td>0.008448</td>\n",
       "      <td>10</td>\n",
       "      <td>0</td>\n",
       "    </tr>\n",
       "    <tr>\n",
       "      <th>87538</th>\n",
       "      <td>test</td>\n",
       "      <td>I300015</td>\n",
       "      <td>no</td>\n",
       "      <td>10</td>\n",
       "      <td>10</td>\n",
       "      <td>app1</td>\n",
       "      <td>android</td>\n",
       "      <td>1993</td>\n",
       "      <td>10</td>\n",
       "      <td>0.501756</td>\n",
       "      <td>...</td>\n",
       "      <td>26537</td>\n",
       "      <td>276</td>\n",
       "      <td>1.040057</td>\n",
       "      <td>0.673022</td>\n",
       "      <td>0.003961</td>\n",
       "      <td>id83284</td>\n",
       "      <td>6.240407e-03</td>\n",
       "      <td>0.008630</td>\n",
       "      <td>5</td>\n",
       "      <td>0</td>\n",
       "    </tr>\n",
       "    <tr>\n",
       "      <th>87539</th>\n",
       "      <td>test</td>\n",
       "      <td>I300016</td>\n",
       "      <td>no</td>\n",
       "      <td>14</td>\n",
       "      <td>14</td>\n",
       "      <td>app1</td>\n",
       "      <td>ios</td>\n",
       "      <td>212</td>\n",
       "      <td>7</td>\n",
       "      <td>3.301887</td>\n",
       "      <td>...</td>\n",
       "      <td>57348</td>\n",
       "      <td>874</td>\n",
       "      <td>1.524029</td>\n",
       "      <td>-0.785851</td>\n",
       "      <td>0.050679</td>\n",
       "      <td>id359434</td>\n",
       "      <td>1.233449e-02</td>\n",
       "      <td>0.009086</td>\n",
       "      <td>3</td>\n",
       "      <td>0</td>\n",
       "    </tr>\n",
       "    <tr>\n",
       "      <th>...</th>\n",
       "      <td>...</td>\n",
       "      <td>...</td>\n",
       "      <td>...</td>\n",
       "      <td>...</td>\n",
       "      <td>...</td>\n",
       "      <td>...</td>\n",
       "      <td>...</td>\n",
       "      <td>...</td>\n",
       "      <td>...</td>\n",
       "      <td>...</td>\n",
       "      <td>...</td>\n",
       "      <td>...</td>\n",
       "      <td>...</td>\n",
       "      <td>...</td>\n",
       "      <td>...</td>\n",
       "      <td>...</td>\n",
       "      <td>...</td>\n",
       "      <td>...</td>\n",
       "      <td>...</td>\n",
       "      <td>...</td>\n",
       "      <td>...</td>\n",
       "    </tr>\n",
       "    <tr>\n",
       "      <th>115483</th>\n",
       "      <td>test</td>\n",
       "      <td>I399982</td>\n",
       "      <td>no</td>\n",
       "      <td>21</td>\n",
       "      <td>21</td>\n",
       "      <td>app2</td>\n",
       "      <td>ios</td>\n",
       "      <td>2110</td>\n",
       "      <td>0</td>\n",
       "      <td>0.000000</td>\n",
       "      <td>...</td>\n",
       "      <td>23216</td>\n",
       "      <td>19</td>\n",
       "      <td>0.081840</td>\n",
       "      <td>-1.852059</td>\n",
       "      <td>0.003961</td>\n",
       "      <td>id847352</td>\n",
       "      <td>1.093091e-03</td>\n",
       "      <td>0.009435</td>\n",
       "      <td>8</td>\n",
       "      <td>0</td>\n",
       "    </tr>\n",
       "    <tr>\n",
       "      <th>115484</th>\n",
       "      <td>test</td>\n",
       "      <td>I399986</td>\n",
       "      <td>no</td>\n",
       "      <td>17</td>\n",
       "      <td>17</td>\n",
       "      <td>app14</td>\n",
       "      <td>android</td>\n",
       "      <td>291</td>\n",
       "      <td>1</td>\n",
       "      <td>0.343643</td>\n",
       "      <td>...</td>\n",
       "      <td>3665</td>\n",
       "      <td>14</td>\n",
       "      <td>0.381992</td>\n",
       "      <td>-0.296415</td>\n",
       "      <td>0.003961</td>\n",
       "      <td>id457437</td>\n",
       "      <td>3.609483e-03</td>\n",
       "      <td>0.008930</td>\n",
       "      <td>6</td>\n",
       "      <td>0</td>\n",
       "    </tr>\n",
       "    <tr>\n",
       "      <th>115485</th>\n",
       "      <td>test</td>\n",
       "      <td>I399991</td>\n",
       "      <td>no</td>\n",
       "      <td>23</td>\n",
       "      <td>23</td>\n",
       "      <td>app1</td>\n",
       "      <td>android</td>\n",
       "      <td>364</td>\n",
       "      <td>3</td>\n",
       "      <td>0.824176</td>\n",
       "      <td>...</td>\n",
       "      <td>173353</td>\n",
       "      <td>2292</td>\n",
       "      <td>1.322158</td>\n",
       "      <td>0.099201</td>\n",
       "      <td>0.003961</td>\n",
       "      <td>id792352</td>\n",
       "      <td>2.052670e-02</td>\n",
       "      <td>0.008806</td>\n",
       "      <td>2</td>\n",
       "      <td>0</td>\n",
       "    </tr>\n",
       "    <tr>\n",
       "      <th>115486</th>\n",
       "      <td>test</td>\n",
       "      <td>I399992</td>\n",
       "      <td>no</td>\n",
       "      <td>20</td>\n",
       "      <td>20</td>\n",
       "      <td>app6</td>\n",
       "      <td>android</td>\n",
       "      <td>59</td>\n",
       "      <td>2</td>\n",
       "      <td>3.389831</td>\n",
       "      <td>...</td>\n",
       "      <td>3474</td>\n",
       "      <td>53</td>\n",
       "      <td>1.525619</td>\n",
       "      <td>-0.186421</td>\n",
       "      <td>0.050679</td>\n",
       "      <td>id115678</td>\n",
       "      <td>2.192207e-02</td>\n",
       "      <td>0.008896</td>\n",
       "      <td>1</td>\n",
       "      <td>0</td>\n",
       "    </tr>\n",
       "    <tr>\n",
       "      <th>115487</th>\n",
       "      <td>test</td>\n",
       "      <td>I399994</td>\n",
       "      <td>no</td>\n",
       "      <td>18</td>\n",
       "      <td>18</td>\n",
       "      <td>app1</td>\n",
       "      <td>ios</td>\n",
       "      <td>498</td>\n",
       "      <td>7</td>\n",
       "      <td>1.405622</td>\n",
       "      <td>...</td>\n",
       "      <td>77884</td>\n",
       "      <td>1201</td>\n",
       "      <td>1.542037</td>\n",
       "      <td>0.857281</td>\n",
       "      <td>0.003961</td>\n",
       "      <td>id705546</td>\n",
       "      <td>1.170346e-02</td>\n",
       "      <td>0.008574</td>\n",
       "      <td>3</td>\n",
       "      <td>0</td>\n",
       "    </tr>\n",
       "  </tbody>\n",
       "</table>\n",
       "<p>27953 rows × 26 columns</p>\n",
       "</div>"
      ],
      "text/plain": [
       "       training     inum click  time time_fct    app mobile_os  impup  clup  \\\n",
       "87535      test  I300002    no    21       21   app1   android   1458     3   \n",
       "87536      test  I300006    no     3        3  app40       ios      3     0   \n",
       "87537      test  I300012    no     5        5  app12   android   5057     6   \n",
       "87538      test  I300015    no    10       10   app1   android   1993    10   \n",
       "87539      test  I300016    no    14       14   app1       ios    212     7   \n",
       "...         ...      ...   ...   ...      ...    ...       ...    ...   ...   \n",
       "115483     test  I399982    no    21       21   app2       ios   2110     0   \n",
       "115484     test  I399986    no    17       17  app14   android    291     1   \n",
       "115485     test  I399991    no    23       23   app1   android    364     3   \n",
       "115486     test  I399992    no    20       20   app6   android     59     2   \n",
       "115487     test  I399994    no    18       18   app1       ios    498     7   \n",
       "\n",
       "           ctrup  ...  imppat  clpat    ctrpat       rnd  pred_vneta  \\\n",
       "87535   0.205761  ...   68113    957  1.405018  0.147891    0.003961   \n",
       "87536   0.000000  ...      50      0  0.000000  0.383246    0.018965   \n",
       "87537   0.118647  ...     754      8  1.061008  1.274485    0.003961   \n",
       "87538   0.501756  ...   26537    276  1.040057  0.673022    0.003961   \n",
       "87539   3.301887  ...   57348    874  1.524029 -0.785851    0.050679   \n",
       "...          ...  ...     ...    ...       ...       ...         ...   \n",
       "115483  0.000000  ...   23216     19  0.081840 -1.852059    0.003961   \n",
       "115484  0.343643  ...    3665     14  0.381992 -0.296415    0.003961   \n",
       "115485  0.824176  ...  173353   2292  1.322158  0.099201    0.003961   \n",
       "115486  3.389831  ...    3474     53  1.525619 -0.186421    0.050679   \n",
       "115487  1.405622  ...   77884   1201  1.542037  0.857281    0.003961   \n",
       "\n",
       "              id    pred_logit  pred_rnd  pred_logit_dec  click_binary  \n",
       "87535   id466983  1.020981e-02  0.008791               4             0  \n",
       "87536   id946375  8.665095e-03  0.008718               4             0  \n",
       "87537   id479295  1.910723e-14  0.008448              10             0  \n",
       "87538    id83284  6.240407e-03  0.008630               5             0  \n",
       "87539   id359434  1.233449e-02  0.009086               3             0  \n",
       "...          ...           ...       ...             ...           ...  \n",
       "115483  id847352  1.093091e-03  0.009435               8             0  \n",
       "115484  id457437  3.609483e-03  0.008930               6             0  \n",
       "115485  id792352  2.052670e-02  0.008806               2             0  \n",
       "115486  id115678  2.192207e-02  0.008896               1             0  \n",
       "115487  id705546  1.170346e-02  0.008574               3             0  \n",
       "\n",
       "[27953 rows x 26 columns]"
      ]
     },
     "execution_count": 30,
     "metadata": {},
     "output_type": "execute_result"
    }
   ],
   "source": [
    "test_df = tz_gaming[tz_gaming['training'] == 'test']\n",
    "test_df"
   ]
  },
  {
   "cell_type": "code",
   "execution_count": 31,
   "id": "383c41ff",
   "metadata": {},
   "outputs": [
    {
     "data": {
      "text/plain": [
       "0.007999999999999998"
      ]
     },
     "execution_count": 31,
     "metadata": {},
     "output_type": "execute_result"
    }
   ],
   "source": [
    "num_obs = test_df.shape[0]\n",
    "cost = num_obs * 10/1000\n",
    "margin = num_obs * 0.05 * 25\n",
    "\n",
    "cutoff = cost/margin\n",
    "cutoff"
   ]
  },
  {
   "cell_type": "code",
   "execution_count": 32,
   "id": "b2a03031",
   "metadata": {},
   "outputs": [],
   "source": [
    "TP = ((test_df['click_binary'] == 1) & (test_df['pred_logit'] >= cutoff)).sum()\n",
    "TN = ((test_df['click_binary'] == 0) & (test_df['pred_logit'] < cutoff)).sum()\n",
    "FP = ((test_df['click_binary'] == 0) & (test_df['pred_logit'] >= cutoff)).sum()\n",
    "FN = ((test_df['click_binary'] == 1) & (test_df['pred_logit'] < cutoff)).sum()\n"
   ]
  },
  {
   "cell_type": "code",
   "execution_count": 33,
   "id": "17d3b6b7",
   "metadata": {},
   "outputs": [
    {
     "data": {
      "text/html": [
       "<div>\n",
       "<style scoped>\n",
       "    .dataframe tbody tr th:only-of-type {\n",
       "        vertical-align: middle;\n",
       "    }\n",
       "\n",
       "    .dataframe tbody tr th {\n",
       "        vertical-align: top;\n",
       "    }\n",
       "\n",
       "    .dataframe thead th {\n",
       "        text-align: right;\n",
       "    }\n",
       "</style>\n",
       "<table border=\"1\" class=\"dataframe\">\n",
       "  <thead>\n",
       "    <tr style=\"text-align: right;\">\n",
       "      <th></th>\n",
       "      <th>label</th>\n",
       "      <th>nr</th>\n",
       "    </tr>\n",
       "  </thead>\n",
       "  <tbody>\n",
       "    <tr>\n",
       "      <th>0</th>\n",
       "      <td>TP</td>\n",
       "      <td>221</td>\n",
       "    </tr>\n",
       "    <tr>\n",
       "      <th>1</th>\n",
       "      <td>FP</td>\n",
       "      <td>10661</td>\n",
       "    </tr>\n",
       "    <tr>\n",
       "      <th>2</th>\n",
       "      <td>TN</td>\n",
       "      <td>17021</td>\n",
       "    </tr>\n",
       "    <tr>\n",
       "      <th>3</th>\n",
       "      <td>FN</td>\n",
       "      <td>50</td>\n",
       "    </tr>\n",
       "  </tbody>\n",
       "</table>\n",
       "</div>"
      ],
      "text/plain": [
       "  label     nr\n",
       "0    TP    221\n",
       "1    FP  10661\n",
       "2    TN  17021\n",
       "3    FN     50"
      ]
     },
     "execution_count": 33,
     "metadata": {},
     "output_type": "execute_result"
    }
   ],
   "source": [
    "cm_logit = pd.DataFrame(\n",
    "    {\n",
    "        \"label\": [\"TP\", \"FP\", \"TN\", \"FN\"],\n",
    "        \"nr\": [TP, FP, TN, FN]\n",
    "    }\n",
    ")\n",
    "cm_logit"
   ]
  },
  {
   "cell_type": "code",
   "execution_count": 34,
   "id": "7abdc703",
   "metadata": {},
   "outputs": [
    {
     "data": {
      "text/plain": [
       "0.6168210925482059"
      ]
     },
     "execution_count": 34,
     "metadata": {},
     "output_type": "execute_result"
    }
   ],
   "source": [
    "accuracy_logit = (TP + TN) / (TP + TN + FP + FN)\n",
    "accuracy_logit\n"
   ]
  },
  {
   "cell_type": "markdown",
   "id": "1c1b0e7a",
   "metadata": {},
   "source": [
    "b. Calculate a DataFrame with elements from a confusion matrix based on `pred_rnd` created in Part I and calculate `accuracy` based on the confusion matrix you created (2 points)"
   ]
  },
  {
   "cell_type": "code",
   "execution_count": 35,
   "id": "b7be0fc0",
   "metadata": {},
   "outputs": [],
   "source": [
    "TP = ((test_df['click_binary'] == 1) & (test_df['pred_rnd'] >= cutoff)).sum()\n",
    "TN = ((test_df['click_binary'] == 0) & (test_df['pred_rnd'] < cutoff)).sum()\n",
    "FP = ((test_df['click_binary'] == 0) & (test_df['pred_rnd'] >= cutoff)).sum()\n",
    "FN = ((test_df['click_binary'] == 1) & (test_df['pred_rnd'] < cutoff)).sum()"
   ]
  },
  {
   "cell_type": "markdown",
   "id": "49f0e17a",
   "metadata": {},
   "source": [
    "> Note use the code format below to store the relevant values from your confusion matrix"
   ]
  },
  {
   "cell_type": "code",
   "execution_count": 60,
   "id": "e5e1e3d6",
   "metadata": {},
   "outputs": [
    {
     "data": {
      "text/html": [
       "<div>\n",
       "<style scoped>\n",
       "    .dataframe tbody tr th:only-of-type {\n",
       "        vertical-align: middle;\n",
       "    }\n",
       "\n",
       "    .dataframe tbody tr th {\n",
       "        vertical-align: top;\n",
       "    }\n",
       "\n",
       "    .dataframe thead th {\n",
       "        text-align: right;\n",
       "    }\n",
       "</style>\n",
       "<table border=\"1\" class=\"dataframe\">\n",
       "  <thead>\n",
       "    <tr style=\"text-align: right;\">\n",
       "      <th></th>\n",
       "      <th>label</th>\n",
       "      <th>nr</th>\n",
       "    </tr>\n",
       "  </thead>\n",
       "  <tbody>\n",
       "    <tr>\n",
       "      <th>0</th>\n",
       "      <td>TP</td>\n",
       "      <td>0</td>\n",
       "    </tr>\n",
       "    <tr>\n",
       "      <th>1</th>\n",
       "      <td>FP</td>\n",
       "      <td>0</td>\n",
       "    </tr>\n",
       "    <tr>\n",
       "      <th>2</th>\n",
       "      <td>TN</td>\n",
       "      <td>27682</td>\n",
       "    </tr>\n",
       "    <tr>\n",
       "      <th>3</th>\n",
       "      <td>FN</td>\n",
       "      <td>271</td>\n",
       "    </tr>\n",
       "  </tbody>\n",
       "</table>\n",
       "</div>"
      ],
      "text/plain": [
       "  label     nr\n",
       "0    TP      0\n",
       "1    FP      0\n",
       "2    TN  27682\n",
       "3    FN    271"
      ]
     },
     "execution_count": 60,
     "metadata": {},
     "output_type": "execute_result"
    }
   ],
   "source": [
    "cm_rnd = pd.DataFrame(\n",
    "    {\n",
    "        \"label\": [\"TP\", \"FP\", \"TN\", \"FN\"],\n",
    "        \"nr\": [TP, FP, TN, FN]\n",
    "    }\n",
    ")\n",
    "cm_rnd"
   ]
  },
  {
   "cell_type": "code",
   "execution_count": 37,
   "id": "9df715c7",
   "metadata": {},
   "outputs": [
    {
     "data": {
      "text/plain": [
       "0.012413694415626229"
      ]
     },
     "execution_count": 37,
     "metadata": {},
     "output_type": "execute_result"
    }
   ],
   "source": [
    "accuracy_rnd = (TP + TN) / (TP + TN + FP + FN)\n",
    "accuracy_rnd"
   ]
  },
  {
   "cell_type": "markdown",
   "id": "70ad4b2f",
   "metadata": {},
   "source": [
    "c. Discuss the similarities and differences between the two confusion matrices. Which prediction (model) is best, based on the confusion matrix? Provide support for your conclusions (3 points)"
   ]
  },
  {
   "cell_type": "markdown",
   "id": "486905b0",
   "metadata": {},
   "source": [
    "Both matrices have a lot of false positives indicating that the model is not very ideal and need to be improved. The first model is a bit more conservative, predicting some correct predictions without too many costly mistakes. The second model goes all in, catching almost every positive case but at a high cost due to a lot of false alarms. If we're watching our budget and false positives are expensive, we'd likely pick the first model for being more cost-effective."
   ]
  },
  {
   "cell_type": "markdown",
   "id": "706bae83",
   "metadata": {},
   "source": [
    "d. Recalculate the confusion matrices from V.a and V.b using 0.5 as the cutoff. Based on these new matrices, again discuss the similarities and differences. Which model is best based on these new confusion matrices? Provide support for your conclusions (3 points)"
   ]
  },
  {
   "cell_type": "markdown",
   "id": "960c4954",
   "metadata": {},
   "source": [
    "> Note use the code format below to store the relevant values from your confusion matrix"
   ]
  },
  {
   "cell_type": "code",
   "execution_count": 38,
   "id": "c7ea1686",
   "metadata": {},
   "outputs": [],
   "source": [
    "TP = ((test_df['click_binary'] == 1) & (test_df['pred_logit'] >= 0.5)).sum()\n",
    "TN = ((test_df['click_binary'] == 0) & (test_df['pred_logit'] < 0.5)).sum()\n",
    "FP = ((test_df['click_binary'] == 0) & (test_df['pred_logit'] >= 0.5)).sum()\n",
    "FN = ((test_df['click_binary'] == 1) & (test_df['pred_logit'] < 0.5)).sum()"
   ]
  },
  {
   "cell_type": "code",
   "execution_count": 39,
   "id": "15f75dab",
   "metadata": {},
   "outputs": [
    {
     "data": {
      "text/html": [
       "<div>\n",
       "<style scoped>\n",
       "    .dataframe tbody tr th:only-of-type {\n",
       "        vertical-align: middle;\n",
       "    }\n",
       "\n",
       "    .dataframe tbody tr th {\n",
       "        vertical-align: top;\n",
       "    }\n",
       "\n",
       "    .dataframe thead th {\n",
       "        text-align: right;\n",
       "    }\n",
       "</style>\n",
       "<table border=\"1\" class=\"dataframe\">\n",
       "  <thead>\n",
       "    <tr style=\"text-align: right;\">\n",
       "      <th></th>\n",
       "      <th>label</th>\n",
       "      <th>nr</th>\n",
       "    </tr>\n",
       "  </thead>\n",
       "  <tbody>\n",
       "    <tr>\n",
       "      <th>0</th>\n",
       "      <td>TP</td>\n",
       "      <td>0</td>\n",
       "    </tr>\n",
       "    <tr>\n",
       "      <th>1</th>\n",
       "      <td>FP</td>\n",
       "      <td>0</td>\n",
       "    </tr>\n",
       "    <tr>\n",
       "      <th>2</th>\n",
       "      <td>TN</td>\n",
       "      <td>27682</td>\n",
       "    </tr>\n",
       "    <tr>\n",
       "      <th>3</th>\n",
       "      <td>FN</td>\n",
       "      <td>271</td>\n",
       "    </tr>\n",
       "  </tbody>\n",
       "</table>\n",
       "</div>"
      ],
      "text/plain": [
       "  label     nr\n",
       "0    TP      0\n",
       "1    FP      0\n",
       "2    TN  27682\n",
       "3    FN    271"
      ]
     },
     "execution_count": 39,
     "metadata": {},
     "output_type": "execute_result"
    }
   ],
   "source": [
    "cm_logit = pd.DataFrame(\n",
    "    {\n",
    "        \"label\": [\"TP\", \"FP\", \"TN\", \"FN\"],\n",
    "        \"nr\": [TP, FP, TN, FN]\n",
    "    }\n",
    ")\n",
    "cm_logit"
   ]
  },
  {
   "cell_type": "code",
   "execution_count": 40,
   "id": "11aa3918",
   "metadata": {},
   "outputs": [
    {
     "data": {
      "text/plain": [
       "0.9903051550817443"
      ]
     },
     "execution_count": 40,
     "metadata": {},
     "output_type": "execute_result"
    }
   ],
   "source": [
    "accuracy_logit_recalc = (TP + TN) / (TP + TN + FP + FN)\n",
    "accuracy_logit_recalc"
   ]
  },
  {
   "cell_type": "markdown",
   "id": "78ccc89a",
   "metadata": {},
   "source": [
    "> Note use the code format below to store the relevant values from your confusion matrix"
   ]
  },
  {
   "cell_type": "code",
   "execution_count": 41,
   "id": "f867a03c",
   "metadata": {},
   "outputs": [],
   "source": [
    "TP = ((test_df['click_binary'] == 1) & (test_df['pred_rnd'] >= 0.5)).sum()\n",
    "TN = ((test_df['click_binary'] == 0) & (test_df['pred_rnd'] < 0.5)).sum()\n",
    "FP = ((test_df['click_binary'] == 0) & (test_df['pred_rnd'] >= 0.5)).sum()\n",
    "FN = ((test_df['click_binary'] == 1) & (test_df['pred_rnd'] < 0.5)).sum()"
   ]
  },
  {
   "cell_type": "code",
   "execution_count": 61,
   "id": "957d2918",
   "metadata": {},
   "outputs": [
    {
     "data": {
      "text/html": [
       "<div>\n",
       "<style scoped>\n",
       "    .dataframe tbody tr th:only-of-type {\n",
       "        vertical-align: middle;\n",
       "    }\n",
       "\n",
       "    .dataframe tbody tr th {\n",
       "        vertical-align: top;\n",
       "    }\n",
       "\n",
       "    .dataframe thead th {\n",
       "        text-align: right;\n",
       "    }\n",
       "</style>\n",
       "<table border=\"1\" class=\"dataframe\">\n",
       "  <thead>\n",
       "    <tr style=\"text-align: right;\">\n",
       "      <th></th>\n",
       "      <th>label</th>\n",
       "      <th>nr</th>\n",
       "    </tr>\n",
       "  </thead>\n",
       "  <tbody>\n",
       "    <tr>\n",
       "      <th>0</th>\n",
       "      <td>TP</td>\n",
       "      <td>0</td>\n",
       "    </tr>\n",
       "    <tr>\n",
       "      <th>1</th>\n",
       "      <td>FP</td>\n",
       "      <td>0</td>\n",
       "    </tr>\n",
       "    <tr>\n",
       "      <th>2</th>\n",
       "      <td>TN</td>\n",
       "      <td>27682</td>\n",
       "    </tr>\n",
       "    <tr>\n",
       "      <th>3</th>\n",
       "      <td>FN</td>\n",
       "      <td>271</td>\n",
       "    </tr>\n",
       "  </tbody>\n",
       "</table>\n",
       "</div>"
      ],
      "text/plain": [
       "  label     nr\n",
       "0    TP      0\n",
       "1    FP      0\n",
       "2    TN  27682\n",
       "3    FN    271"
      ]
     },
     "execution_count": 61,
     "metadata": {},
     "output_type": "execute_result"
    }
   ],
   "source": [
    "cm_rnd = pd.DataFrame(\n",
    "    {\n",
    "        \"label\": [\"TP\", \"FP\", \"TN\", \"FN\"],\n",
    "        \"nr\": [TP, FP, TN, FN]\n",
    "    }\n",
    ")\n",
    "cm_rnd"
   ]
  },
  {
   "cell_type": "code",
   "execution_count": 43,
   "id": "90b40cb6",
   "metadata": {},
   "outputs": [
    {
     "data": {
      "text/plain": [
       "0.9903051550817443"
      ]
     },
     "execution_count": 43,
     "metadata": {},
     "output_type": "execute_result"
    }
   ],
   "source": [
    "accuracy_rnd_recalc = (TP + TN) / (TP + TN + FP + FN)\n",
    "accuracy_rnd_recalc"
   ]
  },
  {
   "cell_type": "markdown",
   "id": "bd84db53",
   "metadata": {},
   "source": [
    "Now the two matrices are exactly the same. Both confusion matrices show that the model predicted no clicks at all, missing out on all actual clicks (271 False Negatives) and avoiding any false alarms (zero False Positives). This kind of model is too cautious and isn't helpful if the goal is to actually identify potential clicks since it flags everything as a non-click. This is a problem because it means that the model is not very useful in predicting clicks."
   ]
  },
  {
   "cell_type": "markdown",
   "id": "3a46c89b",
   "metadata": {},
   "source": [
    "## Part VI: Model comparison (12 points)\n"
   ]
  },
  {
   "cell_type": "markdown",
   "id": "23c7b960",
   "metadata": {},
   "source": [
    "Use the following cost information to assess the profitability each of these models for targeting purposes during the upcoming advertising campaign where TZ will purchase 20-million impressions from Vneta:\n",
    "\n",
    "* Cost per 1,000 video impressions (CPM) is $10\n",
    "* Conversion to sign-up as a TZ game player after clicking on an ad is 5%\n",
    "* The expected CLV of customers that sign-up with TZ after clicking on an ad is approximately $25\n",
    "* The total cost of the data from Vneta is $50K\n",
    "* The total cost charged for the data science consulting services by Vneta is $150K\n",
    "\n",
    "Use `pred_logit`, `pred_rnd`, and the predictions from Vneta based on their proprietary model `pred_vneta` to compare model performance.\n",
    "\n",
    "> Note: The currently available data (+ the `pred_vneta` prediction) are free as part of the partnership between Vneta and TZ-gaming"
   ]
  },
  {
   "cell_type": "markdown",
   "id": "84482c7d",
   "metadata": {},
   "source": [
    "a. Create a new variable `target_logit` that is `True` if the predicted click-through (`pred_logit`) probability is greater than the break-even response rate and `FALSE` otherwise (1 point)"
   ]
  },
  {
   "cell_type": "code",
   "execution_count": 44,
   "id": "e36f22b9",
   "metadata": {},
   "outputs": [],
   "source": [
    "tz_gaming[\"target_logit\"] = tz_gaming['pred_logit'] > cutoff"
   ]
  },
  {
   "cell_type": "markdown",
   "id": "01009762",
   "metadata": {},
   "source": [
    "b. Create a new variable `target_rnd` that is `True` if the predicted click-through (`pred_rnd`) probability is greater than the break-even response rate and `FALSE` otherwise (1 point)"
   ]
  },
  {
   "cell_type": "code",
   "execution_count": 45,
   "id": "a7db4220",
   "metadata": {},
   "outputs": [],
   "source": [
    "tz_gaming[\"target_rnd\"] = tz_gaming['pred_rnd'] > cutoff"
   ]
  },
  {
   "cell_type": "markdown",
   "id": "5d37d412",
   "metadata": {},
   "source": [
    "c. Create a new variable `target_vneta` that is `True` if the predicted click-through (`pred_vneta`) probability is greater than the break-even response rate and `False` otherwise (1 point)"
   ]
  },
  {
   "cell_type": "code",
   "execution_count": 46,
   "id": "17488a5b",
   "metadata": {},
   "outputs": [],
   "source": [
    "# insert your answer here\n",
    "tz_gaming[\"target_vneta\"] = tz_gaming['pred_vneta'] > cutoff"
   ]
  },
  {
   "cell_type": "code",
   "execution_count": 47,
   "id": "46801c48",
   "metadata": {},
   "outputs": [],
   "source": [
    "test_df = tz_gaming[tz_gaming['training'] == 'test']\n"
   ]
  },
  {
   "cell_type": "markdown",
   "id": "7a114bda",
   "metadata": {},
   "source": [
    "d. Based only on the test set (i.e, `training == \"test\"`), calculate the expected profit (in dollars) and the expected return on marketing expenditures (ROME) if TZ (1) `spams` everyone in the test set, (2) continues to target using their current approach (`pred_rnd`), (3) purchases the data from Vneta and uses the logistic regression from I (`pred_logit`) for targeting, or (4) used Vneta's data science consulting services (`pred_vneta`) (3 points)\n",
    "\n",
    "> Note: For efficiency, you can adapt the `perf_calc_actual` function you created for the Tuango case to do the relevant performance calculations for the different models"
   ]
  },
  {
   "cell_type": "code",
   "execution_count": 48,
   "id": "defb5d73",
   "metadata": {},
   "outputs": [
    {
     "data": {
      "text/html": [
       "<div>\n",
       "<style scoped>\n",
       "    .dataframe tbody tr th:only-of-type {\n",
       "        vertical-align: middle;\n",
       "    }\n",
       "\n",
       "    .dataframe tbody tr th {\n",
       "        vertical-align: top;\n",
       "    }\n",
       "\n",
       "    .dataframe thead th {\n",
       "        text-align: right;\n",
       "    }\n",
       "</style>\n",
       "<table border=\"1\" class=\"dataframe\">\n",
       "  <thead>\n",
       "    <tr style=\"text-align: right;\">\n",
       "      <th></th>\n",
       "      <th>training</th>\n",
       "      <th>inum</th>\n",
       "      <th>click</th>\n",
       "      <th>time</th>\n",
       "      <th>time_fct</th>\n",
       "      <th>app</th>\n",
       "      <th>mobile_os</th>\n",
       "      <th>impup</th>\n",
       "      <th>clup</th>\n",
       "      <th>ctrup</th>\n",
       "      <th>...</th>\n",
       "      <th>rnd</th>\n",
       "      <th>pred_vneta</th>\n",
       "      <th>id</th>\n",
       "      <th>pred_logit</th>\n",
       "      <th>pred_rnd</th>\n",
       "      <th>pred_logit_dec</th>\n",
       "      <th>click_binary</th>\n",
       "      <th>target_logit</th>\n",
       "      <th>target_rnd</th>\n",
       "      <th>target_vneta</th>\n",
       "    </tr>\n",
       "  </thead>\n",
       "  <tbody>\n",
       "    <tr>\n",
       "      <th>87535</th>\n",
       "      <td>test</td>\n",
       "      <td>I300002</td>\n",
       "      <td>no</td>\n",
       "      <td>21</td>\n",
       "      <td>21</td>\n",
       "      <td>app1</td>\n",
       "      <td>android</td>\n",
       "      <td>1458</td>\n",
       "      <td>3</td>\n",
       "      <td>0.205761</td>\n",
       "      <td>...</td>\n",
       "      <td>0.147891</td>\n",
       "      <td>0.003961</td>\n",
       "      <td>id466983</td>\n",
       "      <td>1.020981e-02</td>\n",
       "      <td>0.008791</td>\n",
       "      <td>4</td>\n",
       "      <td>0</td>\n",
       "      <td>True</td>\n",
       "      <td>True</td>\n",
       "      <td>False</td>\n",
       "    </tr>\n",
       "    <tr>\n",
       "      <th>87536</th>\n",
       "      <td>test</td>\n",
       "      <td>I300006</td>\n",
       "      <td>no</td>\n",
       "      <td>3</td>\n",
       "      <td>3</td>\n",
       "      <td>app40</td>\n",
       "      <td>ios</td>\n",
       "      <td>3</td>\n",
       "      <td>0</td>\n",
       "      <td>0.000000</td>\n",
       "      <td>...</td>\n",
       "      <td>0.383246</td>\n",
       "      <td>0.018965</td>\n",
       "      <td>id946375</td>\n",
       "      <td>8.665095e-03</td>\n",
       "      <td>0.008718</td>\n",
       "      <td>4</td>\n",
       "      <td>0</td>\n",
       "      <td>True</td>\n",
       "      <td>True</td>\n",
       "      <td>True</td>\n",
       "    </tr>\n",
       "    <tr>\n",
       "      <th>87537</th>\n",
       "      <td>test</td>\n",
       "      <td>I300012</td>\n",
       "      <td>no</td>\n",
       "      <td>5</td>\n",
       "      <td>5</td>\n",
       "      <td>app12</td>\n",
       "      <td>android</td>\n",
       "      <td>5057</td>\n",
       "      <td>6</td>\n",
       "      <td>0.118647</td>\n",
       "      <td>...</td>\n",
       "      <td>1.274485</td>\n",
       "      <td>0.003961</td>\n",
       "      <td>id479295</td>\n",
       "      <td>1.910723e-14</td>\n",
       "      <td>0.008448</td>\n",
       "      <td>10</td>\n",
       "      <td>0</td>\n",
       "      <td>False</td>\n",
       "      <td>True</td>\n",
       "      <td>False</td>\n",
       "    </tr>\n",
       "    <tr>\n",
       "      <th>87538</th>\n",
       "      <td>test</td>\n",
       "      <td>I300015</td>\n",
       "      <td>no</td>\n",
       "      <td>10</td>\n",
       "      <td>10</td>\n",
       "      <td>app1</td>\n",
       "      <td>android</td>\n",
       "      <td>1993</td>\n",
       "      <td>10</td>\n",
       "      <td>0.501756</td>\n",
       "      <td>...</td>\n",
       "      <td>0.673022</td>\n",
       "      <td>0.003961</td>\n",
       "      <td>id83284</td>\n",
       "      <td>6.240407e-03</td>\n",
       "      <td>0.008630</td>\n",
       "      <td>5</td>\n",
       "      <td>0</td>\n",
       "      <td>False</td>\n",
       "      <td>True</td>\n",
       "      <td>False</td>\n",
       "    </tr>\n",
       "    <tr>\n",
       "      <th>87539</th>\n",
       "      <td>test</td>\n",
       "      <td>I300016</td>\n",
       "      <td>no</td>\n",
       "      <td>14</td>\n",
       "      <td>14</td>\n",
       "      <td>app1</td>\n",
       "      <td>ios</td>\n",
       "      <td>212</td>\n",
       "      <td>7</td>\n",
       "      <td>3.301887</td>\n",
       "      <td>...</td>\n",
       "      <td>-0.785851</td>\n",
       "      <td>0.050679</td>\n",
       "      <td>id359434</td>\n",
       "      <td>1.233449e-02</td>\n",
       "      <td>0.009086</td>\n",
       "      <td>3</td>\n",
       "      <td>0</td>\n",
       "      <td>True</td>\n",
       "      <td>True</td>\n",
       "      <td>True</td>\n",
       "    </tr>\n",
       "    <tr>\n",
       "      <th>...</th>\n",
       "      <td>...</td>\n",
       "      <td>...</td>\n",
       "      <td>...</td>\n",
       "      <td>...</td>\n",
       "      <td>...</td>\n",
       "      <td>...</td>\n",
       "      <td>...</td>\n",
       "      <td>...</td>\n",
       "      <td>...</td>\n",
       "      <td>...</td>\n",
       "      <td>...</td>\n",
       "      <td>...</td>\n",
       "      <td>...</td>\n",
       "      <td>...</td>\n",
       "      <td>...</td>\n",
       "      <td>...</td>\n",
       "      <td>...</td>\n",
       "      <td>...</td>\n",
       "      <td>...</td>\n",
       "      <td>...</td>\n",
       "      <td>...</td>\n",
       "    </tr>\n",
       "    <tr>\n",
       "      <th>115483</th>\n",
       "      <td>test</td>\n",
       "      <td>I399982</td>\n",
       "      <td>no</td>\n",
       "      <td>21</td>\n",
       "      <td>21</td>\n",
       "      <td>app2</td>\n",
       "      <td>ios</td>\n",
       "      <td>2110</td>\n",
       "      <td>0</td>\n",
       "      <td>0.000000</td>\n",
       "      <td>...</td>\n",
       "      <td>-1.852059</td>\n",
       "      <td>0.003961</td>\n",
       "      <td>id847352</td>\n",
       "      <td>1.093091e-03</td>\n",
       "      <td>0.009435</td>\n",
       "      <td>8</td>\n",
       "      <td>0</td>\n",
       "      <td>False</td>\n",
       "      <td>True</td>\n",
       "      <td>False</td>\n",
       "    </tr>\n",
       "    <tr>\n",
       "      <th>115484</th>\n",
       "      <td>test</td>\n",
       "      <td>I399986</td>\n",
       "      <td>no</td>\n",
       "      <td>17</td>\n",
       "      <td>17</td>\n",
       "      <td>app14</td>\n",
       "      <td>android</td>\n",
       "      <td>291</td>\n",
       "      <td>1</td>\n",
       "      <td>0.343643</td>\n",
       "      <td>...</td>\n",
       "      <td>-0.296415</td>\n",
       "      <td>0.003961</td>\n",
       "      <td>id457437</td>\n",
       "      <td>3.609483e-03</td>\n",
       "      <td>0.008930</td>\n",
       "      <td>6</td>\n",
       "      <td>0</td>\n",
       "      <td>False</td>\n",
       "      <td>True</td>\n",
       "      <td>False</td>\n",
       "    </tr>\n",
       "    <tr>\n",
       "      <th>115485</th>\n",
       "      <td>test</td>\n",
       "      <td>I399991</td>\n",
       "      <td>no</td>\n",
       "      <td>23</td>\n",
       "      <td>23</td>\n",
       "      <td>app1</td>\n",
       "      <td>android</td>\n",
       "      <td>364</td>\n",
       "      <td>3</td>\n",
       "      <td>0.824176</td>\n",
       "      <td>...</td>\n",
       "      <td>0.099201</td>\n",
       "      <td>0.003961</td>\n",
       "      <td>id792352</td>\n",
       "      <td>2.052670e-02</td>\n",
       "      <td>0.008806</td>\n",
       "      <td>2</td>\n",
       "      <td>0</td>\n",
       "      <td>True</td>\n",
       "      <td>True</td>\n",
       "      <td>False</td>\n",
       "    </tr>\n",
       "    <tr>\n",
       "      <th>115486</th>\n",
       "      <td>test</td>\n",
       "      <td>I399992</td>\n",
       "      <td>no</td>\n",
       "      <td>20</td>\n",
       "      <td>20</td>\n",
       "      <td>app6</td>\n",
       "      <td>android</td>\n",
       "      <td>59</td>\n",
       "      <td>2</td>\n",
       "      <td>3.389831</td>\n",
       "      <td>...</td>\n",
       "      <td>-0.186421</td>\n",
       "      <td>0.050679</td>\n",
       "      <td>id115678</td>\n",
       "      <td>2.192207e-02</td>\n",
       "      <td>0.008896</td>\n",
       "      <td>1</td>\n",
       "      <td>0</td>\n",
       "      <td>True</td>\n",
       "      <td>True</td>\n",
       "      <td>True</td>\n",
       "    </tr>\n",
       "    <tr>\n",
       "      <th>115487</th>\n",
       "      <td>test</td>\n",
       "      <td>I399994</td>\n",
       "      <td>no</td>\n",
       "      <td>18</td>\n",
       "      <td>18</td>\n",
       "      <td>app1</td>\n",
       "      <td>ios</td>\n",
       "      <td>498</td>\n",
       "      <td>7</td>\n",
       "      <td>1.405622</td>\n",
       "      <td>...</td>\n",
       "      <td>0.857281</td>\n",
       "      <td>0.003961</td>\n",
       "      <td>id705546</td>\n",
       "      <td>1.170346e-02</td>\n",
       "      <td>0.008574</td>\n",
       "      <td>3</td>\n",
       "      <td>0</td>\n",
       "      <td>True</td>\n",
       "      <td>True</td>\n",
       "      <td>False</td>\n",
       "    </tr>\n",
       "  </tbody>\n",
       "</table>\n",
       "<p>27953 rows × 29 columns</p>\n",
       "</div>"
      ],
      "text/plain": [
       "       training     inum click  time time_fct    app mobile_os  impup  clup  \\\n",
       "87535      test  I300002    no    21       21   app1   android   1458     3   \n",
       "87536      test  I300006    no     3        3  app40       ios      3     0   \n",
       "87537      test  I300012    no     5        5  app12   android   5057     6   \n",
       "87538      test  I300015    no    10       10   app1   android   1993    10   \n",
       "87539      test  I300016    no    14       14   app1       ios    212     7   \n",
       "...         ...      ...   ...   ...      ...    ...       ...    ...   ...   \n",
       "115483     test  I399982    no    21       21   app2       ios   2110     0   \n",
       "115484     test  I399986    no    17       17  app14   android    291     1   \n",
       "115485     test  I399991    no    23       23   app1   android    364     3   \n",
       "115486     test  I399992    no    20       20   app6   android     59     2   \n",
       "115487     test  I399994    no    18       18   app1       ios    498     7   \n",
       "\n",
       "           ctrup  ...       rnd  pred_vneta        id    pred_logit  pred_rnd  \\\n",
       "87535   0.205761  ...  0.147891    0.003961  id466983  1.020981e-02  0.008791   \n",
       "87536   0.000000  ...  0.383246    0.018965  id946375  8.665095e-03  0.008718   \n",
       "87537   0.118647  ...  1.274485    0.003961  id479295  1.910723e-14  0.008448   \n",
       "87538   0.501756  ...  0.673022    0.003961   id83284  6.240407e-03  0.008630   \n",
       "87539   3.301887  ... -0.785851    0.050679  id359434  1.233449e-02  0.009086   \n",
       "...          ...  ...       ...         ...       ...           ...       ...   \n",
       "115483  0.000000  ... -1.852059    0.003961  id847352  1.093091e-03  0.009435   \n",
       "115484  0.343643  ... -0.296415    0.003961  id457437  3.609483e-03  0.008930   \n",
       "115485  0.824176  ...  0.099201    0.003961  id792352  2.052670e-02  0.008806   \n",
       "115486  3.389831  ... -0.186421    0.050679  id115678  2.192207e-02  0.008896   \n",
       "115487  1.405622  ...  0.857281    0.003961  id705546  1.170346e-02  0.008574   \n",
       "\n",
       "        pred_logit_dec  click_binary  target_logit  target_rnd  target_vneta  \n",
       "87535                4             0          True        True         False  \n",
       "87536                4             0          True        True          True  \n",
       "87537               10             0         False        True         False  \n",
       "87538                5             0         False        True         False  \n",
       "87539                3             0          True        True          True  \n",
       "...                ...           ...           ...         ...           ...  \n",
       "115483               8             0         False        True         False  \n",
       "115484               6             0         False        True         False  \n",
       "115485               2             0          True        True         False  \n",
       "115486               1             0          True        True          True  \n",
       "115487               3             0          True        True         False  \n",
       "\n",
       "[27953 rows x 29 columns]"
      ]
     },
     "execution_count": 48,
     "metadata": {},
     "output_type": "execute_result"
    }
   ],
   "source": [
    "test_df = tz_gaming[tz_gaming['training'] == 'test']\n",
    "test_df\n"
   ]
  },
  {
   "cell_type": "code",
   "execution_count": 49,
   "id": "dc389a00",
   "metadata": {},
   "outputs": [
    {
     "data": {
      "text/plain": [
       "59.22000000000003"
      ]
     },
     "metadata": {},
     "output_type": "display_data"
    },
    {
     "data": {
      "text/plain": [
       "0.21185561478195555"
      ]
     },
     "metadata": {},
     "output_type": "display_data"
    }
   ],
   "source": [
    "num_total = test_df.shape[0]\n",
    "cost_total = num_total * 10/1000\n",
    "selected_rows = test_df[test_df['click'] == 'yes']\n",
    "yes_all = selected_rows.shape[0]\n",
    "rev_total = yes_all * 0.05 * 25\n",
    "profit_total = rev_total - cost_total\n",
    "ROME_total = profit_total / cost_total\n",
    "\n",
    "display(profit_total, ROME_total)"
   ]
  },
  {
   "cell_type": "code",
   "execution_count": 50,
   "id": "24232539",
   "metadata": {},
   "outputs": [
    {
     "data": {
      "text/plain": [
       "59.98000000000002"
      ]
     },
     "metadata": {},
     "output_type": "display_data"
    },
    {
     "data": {
      "text/plain": [
       "0.21515945044301762"
      ]
     },
     "metadata": {},
     "output_type": "display_data"
    }
   ],
   "source": [
    "num_target_rnd = test_df['target_rnd'].sum()\n",
    "cost_rnd = num_target_rnd * 10/1000\n",
    "selected_rows = test_df[(test_df['target_rnd'] == True) & (test_df['click'] == 'yes')]\n",
    "yes_rnd = selected_rows.shape[0]\n",
    "rev_rnd = yes_rnd * 0.05 * 25\n",
    "profit_rnd = rev_rnd - cost_rnd\n",
    "ROME_rnd = profit_rnd / cost_rnd\n",
    "display(profit_rnd, ROME_rnd)"
   ]
  },
  {
   "cell_type": "code",
   "execution_count": 51,
   "id": "cca3a3ef",
   "metadata": {},
   "outputs": [
    {
     "data": {
      "text/plain": [
       "167.43"
      ]
     },
     "metadata": {},
     "output_type": "display_data"
    },
    {
     "data": {
      "text/plain": [
       "1.5385958463517737"
      ]
     },
     "metadata": {},
     "output_type": "display_data"
    }
   ],
   "source": [
    "num_logit = test_df['target_logit'].sum()\n",
    "cost_logit = num_logit * 10/1000\n",
    "selected_rows = test_df[(test_df['target_logit'] == True) & (test_df['click'] == 'yes')]\n",
    "yes_logit = selected_rows.shape[0]\n",
    "rev_logit = yes_logit * 0.05 * 25\n",
    "profit_logit = rev_logit - cost_logit\n",
    "ROME_logit = profit_logit / cost_logit\n",
    "\n",
    "display(profit_logit, ROME_logit)\n"
   ]
  },
  {
   "cell_type": "code",
   "execution_count": 52,
   "id": "94a67623",
   "metadata": {},
   "outputs": [
    {
     "data": {
      "text/plain": [
       "151.29"
      ]
     },
     "metadata": {},
     "output_type": "display_data"
    },
    {
     "data": {
      "text/plain": [
       "3.105933073290905"
      ]
     },
     "metadata": {},
     "output_type": "display_data"
    }
   ],
   "source": [
    "num_vneta = test_df['target_vneta'].sum()\n",
    "cost_vneta = num_vneta * 10/1000\n",
    "selected_rows = test_df[(test_df['target_vneta'] == True) & (test_df['click'] == 'yes')]\n",
    "yes_vneta = selected_rows.shape[0]\n",
    "rev_vneta = yes_vneta * 0.05 * 25\n",
    "profit_vneta = rev_vneta - cost_vneta\n",
    "ROME_vneta = profit_vneta / cost_vneta\n",
    "display(profit_vneta, ROME_vneta)"
   ]
  },
  {
   "cell_type": "code",
   "execution_count": 53,
   "id": "2acabf16",
   "metadata": {},
   "outputs": [
    {
     "data": {
      "text/html": [
       "<div>\n",
       "<style scoped>\n",
       "    .dataframe tbody tr th:only-of-type {\n",
       "        vertical-align: middle;\n",
       "    }\n",
       "\n",
       "    .dataframe tbody tr th {\n",
       "        vertical-align: top;\n",
       "    }\n",
       "\n",
       "    .dataframe thead th {\n",
       "        text-align: right;\n",
       "    }\n",
       "</style>\n",
       "<table border=\"1\" class=\"dataframe\">\n",
       "  <thead>\n",
       "    <tr style=\"text-align: right;\">\n",
       "      <th></th>\n",
       "      <th>model</th>\n",
       "      <th>profit</th>\n",
       "      <th>ROME</th>\n",
       "    </tr>\n",
       "  </thead>\n",
       "  <tbody>\n",
       "    <tr>\n",
       "      <th>0</th>\n",
       "      <td>logit</td>\n",
       "      <td>167.43</td>\n",
       "      <td>1.538596</td>\n",
       "    </tr>\n",
       "    <tr>\n",
       "      <th>1</th>\n",
       "      <td>rnd</td>\n",
       "      <td>59.98</td>\n",
       "      <td>0.215159</td>\n",
       "    </tr>\n",
       "    <tr>\n",
       "      <th>2</th>\n",
       "      <td>vneta</td>\n",
       "      <td>151.29</td>\n",
       "      <td>3.105933</td>\n",
       "    </tr>\n",
       "    <tr>\n",
       "      <th>3</th>\n",
       "      <td>spam</td>\n",
       "      <td>59.22</td>\n",
       "      <td>0.211856</td>\n",
       "    </tr>\n",
       "  </tbody>\n",
       "</table>\n",
       "</div>"
      ],
      "text/plain": [
       "   model  profit      ROME\n",
       "0  logit  167.43  1.538596\n",
       "1    rnd   59.98  0.215159\n",
       "2  vneta  151.29  3.105933\n",
       "3   spam   59.22  0.211856"
      ]
     },
     "execution_count": 53,
     "metadata": {},
     "output_type": "execute_result"
    }
   ],
   "source": [
    "# calculate and add profit and ROME values for each approach\n",
    "# to the mod_perf data frame\n",
    "tz_gaming[\"pred_spam\"] = 1\n",
    "tz_gaming[\"target_spam\"] = True\n",
    "\n",
    "mod_perf = pd.DataFrame(\n",
    "    {\n",
    "        \"model\": [\n",
    "            \"logit\",\n",
    "            \"rnd\",\n",
    "            \"vneta\",\n",
    "            \"spam\",\n",
    "        ],\n",
    "        \"profit\": [profit_logit, profit_rnd, profit_vneta, profit_total],\n",
    "        \"ROME\": [ROME_logit, ROME_rnd, ROME_vneta, ROME_total],\n",
    "    }\n",
    ")\n",
    "\n",
    "mod_perf"
   ]
  },
  {
   "cell_type": "markdown",
   "id": "60d40387",
   "metadata": {},
   "source": [
    "e. Based on the results from VI.d discuss which of these 4 approaches you would recommend and why (2 points)"
   ]
  },
  {
   "cell_type": "markdown",
   "id": "85be432d",
   "metadata": {},
   "source": [
    "Here, the best approach is to continue to target using their current approach as it will give us a slightly higher profit and ROME compare to the spamming approach. Getting the data from Vneta or hiring the data science consulting team will give us a higher raw profit and ROME but the data will cost $50K and the consulting team will cost $150K. After deducting the cost for either approach, the profit will be negative. Thus, the best approach is to continue to target using their current approach. "
   ]
  },
  {
   "cell_type": "markdown",
   "id": "68cd674e",
   "metadata": {},
   "source": [
    "f. Calculate the profit and ROME implications for each of the 4 options mentioned in VI.d if TZ purchases 20-million impression for the upcoming ad campaign (2 points)\n",
    "\n",
    "> Note: Calculate total profits under the assumption that options (3) and (4) are free of charge. Then compare the profit numbers to determine if these options would be worth the expense going forward.\n",
    "\n",
    "> Note: For efficiency, you can adapt the `perf_calc` function you created for the Tuango case to do the relevant performance calculations for the different models."
   ]
  },
  {
   "cell_type": "code",
   "execution_count": 54,
   "id": "7c8445a9",
   "metadata": {},
   "outputs": [],
   "source": [
    "total_impression = 20000000\n",
    "total_cost = total_impression * 10/1000"
   ]
  },
  {
   "cell_type": "code",
   "execution_count": 55,
   "id": "6243c2e9",
   "metadata": {},
   "outputs": [
    {
     "data": {
      "text/plain": [
       "42371.122956391075"
      ]
     },
     "metadata": {},
     "output_type": "display_data"
    },
    {
     "data": {
      "text/plain": [
       "0.2118556147819554"
      ]
     },
     "metadata": {},
     "output_type": "display_data"
    }
   ],
   "source": [
    "spam_perc = yes_all / num_total\n",
    "spam_yes = spam_perc * total_impression\n",
    "spam_profit = spam_yes * 0.05 * 25 - total_cost\n",
    "spam_rome = spam_profit / total_cost\n",
    "\n",
    "display(spam_profit, spam_rome)"
   ]
  },
  {
   "cell_type": "code",
   "execution_count": 56,
   "id": "c97a8cd3",
   "metadata": {},
   "outputs": [
    {
     "data": {
      "text/plain": [
       "42914.89285586518"
      ]
     },
     "metadata": {},
     "output_type": "display_data"
    },
    {
     "data": {
      "text/plain": [
       "0.21515945044301743"
      ]
     },
     "metadata": {},
     "output_type": "display_data"
    }
   ],
   "source": [
    "rnd_total = total_impression * num_target_rnd / num_total\n",
    "rnd_cost = rnd_total * 10/1000\n",
    "rnd_perc = yes_rnd / num_target_rnd\n",
    "rnd_yes = rnd_perc * rnd_total\n",
    "rnd_profit = rnd_yes * 0.05 * 25 - rnd_cost\n",
    "rnd_rome = rnd_profit / rnd_cost\n",
    "\n",
    "display(rnd_profit, rnd_rome)\n"
   ]
  },
  {
   "cell_type": "code",
   "execution_count": 57,
   "id": "9821b57f",
   "metadata": {},
   "outputs": [
    {
     "data": {
      "text/plain": [
       "119793.93982756774"
      ]
     },
     "metadata": {},
     "output_type": "display_data"
    },
    {
     "data": {
      "text/plain": [
       "1.5385958463517742"
      ]
     },
     "metadata": {},
     "output_type": "display_data"
    }
   ],
   "source": [
    "logit_total = total_impression * num_logit / num_total\n",
    "logit_cost = logit_total * 10/1000\n",
    "logit_perc = yes_logit / num_logit\n",
    "logit_yes = logit_perc * logit_total\n",
    "logit_profit = logit_yes * 0.05 * 25 - logit_cost\n",
    "logit_rome = logit_profit / logit_cost\n",
    "\n",
    "display(logit_profit, logit_rome)"
   ]
  },
  {
   "cell_type": "code",
   "execution_count": 58,
   "id": "83651693",
   "metadata": {},
   "outputs": [
    {
     "data": {
      "text/plain": [
       "108245.98433084103"
      ]
     },
     "metadata": {},
     "output_type": "display_data"
    },
    {
     "data": {
      "text/plain": [
       "3.1059330732909047"
      ]
     },
     "metadata": {},
     "output_type": "display_data"
    }
   ],
   "source": [
    "vneta_total = total_impression * num_vneta / num_total\n",
    "vneta_cost = vneta_total * 10/1000\n",
    "vneta_perc = yes_vneta / num_vneta\n",
    "vneta_yes = vneta_perc * vneta_total\n",
    "vneta_profit = vneta_yes * 0.05 * 25 - vneta_cost\n",
    "vneta_rome = vneta_profit / vneta_cost\n",
    "\n",
    "display(vneta_profit, vneta_rome)"
   ]
  },
  {
   "cell_type": "code",
   "execution_count": 59,
   "id": "ec398de0",
   "metadata": {},
   "outputs": [
    {
     "data": {
      "text/html": [
       "<div>\n",
       "<style scoped>\n",
       "    .dataframe tbody tr th:only-of-type {\n",
       "        vertical-align: middle;\n",
       "    }\n",
       "\n",
       "    .dataframe tbody tr th {\n",
       "        vertical-align: top;\n",
       "    }\n",
       "\n",
       "    .dataframe thead th {\n",
       "        text-align: right;\n",
       "    }\n",
       "</style>\n",
       "<table border=\"1\" class=\"dataframe\">\n",
       "  <thead>\n",
       "    <tr style=\"text-align: right;\">\n",
       "      <th></th>\n",
       "      <th>model</th>\n",
       "      <th>profit</th>\n",
       "      <th>ROME</th>\n",
       "    </tr>\n",
       "  </thead>\n",
       "  <tbody>\n",
       "    <tr>\n",
       "      <th>0</th>\n",
       "      <td>logit</td>\n",
       "      <td>119793.939828</td>\n",
       "      <td>1.538596</td>\n",
       "    </tr>\n",
       "    <tr>\n",
       "      <th>1</th>\n",
       "      <td>rnd</td>\n",
       "      <td>42914.892856</td>\n",
       "      <td>0.215159</td>\n",
       "    </tr>\n",
       "    <tr>\n",
       "      <th>2</th>\n",
       "      <td>vneta</td>\n",
       "      <td>108245.984331</td>\n",
       "      <td>3.105933</td>\n",
       "    </tr>\n",
       "    <tr>\n",
       "      <th>3</th>\n",
       "      <td>spam</td>\n",
       "      <td>42371.122956</td>\n",
       "      <td>0.211856</td>\n",
       "    </tr>\n",
       "  </tbody>\n",
       "</table>\n",
       "</div>"
      ],
      "text/plain": [
       "   model         profit      ROME\n",
       "0  logit  119793.939828  1.538596\n",
       "1    rnd   42914.892856  0.215159\n",
       "2  vneta  108245.984331  3.105933\n",
       "3   spam   42371.122956  0.211856"
      ]
     },
     "execution_count": 59,
     "metadata": {},
     "output_type": "execute_result"
    }
   ],
   "source": [
    "mod_perf_20M = pd.DataFrame(\n",
    "    {\n",
    "        \"model\": [\n",
    "            \"logit\",\n",
    "            \"rnd\",\n",
    "            \"vneta\",\n",
    "            \"spam\",\n",
    "        ],\n",
    "        \"profit\": [logit_profit, rnd_profit, vneta_profit, spam_profit],\n",
    "        \"ROME\": [logit_rome, rnd_rome, vneta_rome, spam_rome],\n",
    "    }\n",
    ")\n",
    "\n",
    "mod_perf_20M"
   ]
  },
  {
   "cell_type": "markdown",
   "id": "e1acd3c5",
   "metadata": {},
   "source": [
    "g. Based on the results from VI.f, discuss which of the 4 approaches you would recommend to put into production and why. Is your recommendation different from VI.e? Why (not) (2 points)\n",
    "\n",
    "> Note: Calculate total profits under the assumption that options (3) and (4) are free of charge. Then compare the profit numbers to determine if these options would be worth the expense going forward.\n",
    "\n",
    "> Note: For efficiency, consider adapting the `perf_calc` function you created for the Tuango case to do the relevant performance calculations for the different models."
   ]
  },
  {
   "cell_type": "markdown",
   "id": "8757d04d",
   "metadata": {},
   "source": [
    "Here, the best approach is to get the data from Vneta and use the logistic regression from I for targeting. This is because it will give us the highest profit. The data will cost $50K but the after deducting the cost, this approach will still give us a profit of $69794 which is the highest among the 4 options. The data science consulting team will give us the highest ROME but hiring them is too costly and after deducting the cost, the profit will be negative. Thus, the best approach is to get the data from Vneta."
   ]
  },
  {
   "cell_type": "markdown",
   "id": "4ae36a4f",
   "metadata": {},
   "source": []
  }
 ],
 "metadata": {
  "jupytext": {
   "cell_metadata_filter": "-all",
   "main_language": "python",
   "notebook_metadata_filter": "-all"
  },
  "kernelspec": {
   "display_name": "base",
   "language": "python",
   "name": "python3"
  },
  "language_info": {
   "codemirror_mode": {
    "name": "ipython",
    "version": 3
   },
   "file_extension": ".py",
   "mimetype": "text/x-python",
   "name": "python",
   "nbconvert_exporter": "python",
   "pygments_lexer": "ipython3",
   "version": "3.11.7"
  },
  "vscode": {
   "interpreter": {
    "hash": "d4d1e4263499bec80672ea0156c357c1ee493ec2b1c70f0acce89fc37c4a6abe"
   }
  }
 },
 "nbformat": 4,
 "nbformat_minor": 5
}
